{
 "cells": [
  {
   "cell_type": "code",
   "execution_count": 1,
   "id": "6ba96ca6",
   "metadata": {},
   "outputs": [],
   "source": [
    "import pandas as pd\n",
    "import numpy as np\n",
    "import matplotlib.pyplot as plt\n",
    "from sklearn.pipeline import make_pipeline, Pipeline\n",
    "from sklearn.compose import make_column_transformer\n",
    "from sklearn.preprocessing import StandardScaler\n",
    "from sklearn.preprocessing import OneHotEncoder\n",
    "from sklearn.impute import SimpleImputer\n",
    "from sklearn.svm import SVR\n",
    "from sklearn import set_config\n",
    "set_config(display = 'diagram')"
   ]
  },
  {
   "cell_type": "code",
   "execution_count": 2,
   "id": "7f414833",
   "metadata": {},
   "outputs": [
    {
     "data": {
      "text/html": [
       "<div>\n",
       "<style scoped>\n",
       "    .dataframe tbody tr th:only-of-type {\n",
       "        vertical-align: middle;\n",
       "    }\n",
       "\n",
       "    .dataframe tbody tr th {\n",
       "        vertical-align: top;\n",
       "    }\n",
       "\n",
       "    .dataframe thead th {\n",
       "        text-align: right;\n",
       "    }\n",
       "</style>\n",
       "<table border=\"1\" class=\"dataframe\">\n",
       "  <thead>\n",
       "    <tr style=\"text-align: right;\">\n",
       "      <th></th>\n",
       "      <th>User ID</th>\n",
       "      <th>Gender</th>\n",
       "      <th>Age</th>\n",
       "      <th>EstimatedSalary</th>\n",
       "      <th>Purchased</th>\n",
       "    </tr>\n",
       "  </thead>\n",
       "  <tbody>\n",
       "    <tr>\n",
       "      <th>0</th>\n",
       "      <td>15624510</td>\n",
       "      <td>Male</td>\n",
       "      <td>19</td>\n",
       "      <td>19000</td>\n",
       "      <td>0</td>\n",
       "    </tr>\n",
       "    <tr>\n",
       "      <th>1</th>\n",
       "      <td>15810944</td>\n",
       "      <td>Male</td>\n",
       "      <td>35</td>\n",
       "      <td>20000</td>\n",
       "      <td>0</td>\n",
       "    </tr>\n",
       "    <tr>\n",
       "      <th>2</th>\n",
       "      <td>15668575</td>\n",
       "      <td>Female</td>\n",
       "      <td>26</td>\n",
       "      <td>43000</td>\n",
       "      <td>0</td>\n",
       "    </tr>\n",
       "    <tr>\n",
       "      <th>3</th>\n",
       "      <td>15603246</td>\n",
       "      <td>Female</td>\n",
       "      <td>27</td>\n",
       "      <td>57000</td>\n",
       "      <td>0</td>\n",
       "    </tr>\n",
       "    <tr>\n",
       "      <th>4</th>\n",
       "      <td>15804002</td>\n",
       "      <td>Male</td>\n",
       "      <td>19</td>\n",
       "      <td>76000</td>\n",
       "      <td>0</td>\n",
       "    </tr>\n",
       "  </tbody>\n",
       "</table>\n",
       "</div>"
      ],
      "text/plain": [
       "    User ID  Gender  Age  EstimatedSalary  Purchased\n",
       "0  15624510    Male   19            19000          0\n",
       "1  15810944    Male   35            20000          0\n",
       "2  15668575  Female   26            43000          0\n",
       "3  15603246  Female   27            57000          0\n",
       "4  15804002    Male   19            76000          0"
      ]
     },
     "execution_count": 2,
     "metadata": {},
     "output_type": "execute_result"
    }
   ],
   "source": [
    "df = pd.read_csv('Social_Network_Ads.csv')\n",
    "df.head()"
   ]
  },
  {
   "cell_type": "code",
   "execution_count": 3,
   "id": "93ed9a9f",
   "metadata": {},
   "outputs": [
    {
     "data": {
      "text/plain": [
       "User ID            0\n",
       "Gender             0\n",
       "Age                0\n",
       "EstimatedSalary    0\n",
       "Purchased          0\n",
       "dtype: int64"
      ]
     },
     "execution_count": 3,
     "metadata": {},
     "output_type": "execute_result"
    }
   ],
   "source": [
    "df.isna().sum()"
   ]
  },
  {
   "cell_type": "code",
   "execution_count": 4,
   "id": "20b2a3d2",
   "metadata": {},
   "outputs": [
    {
     "name": "stdout",
     "output_type": "stream",
     "text": [
      "<class 'pandas.core.frame.DataFrame'>\n",
      "RangeIndex: 400 entries, 0 to 399\n",
      "Data columns (total 5 columns):\n",
      " #   Column           Non-Null Count  Dtype \n",
      "---  ------           --------------  ----- \n",
      " 0   User ID          400 non-null    int64 \n",
      " 1   Gender           400 non-null    object\n",
      " 2   Age              400 non-null    int64 \n",
      " 3   EstimatedSalary  400 non-null    int64 \n",
      " 4   Purchased        400 non-null    int64 \n",
      "dtypes: int64(4), object(1)\n",
      "memory usage: 15.8+ KB\n"
     ]
    }
   ],
   "source": [
    "df.info()"
   ]
  },
  {
   "cell_type": "code",
   "execution_count": 5,
   "id": "191a412a",
   "metadata": {},
   "outputs": [],
   "source": [
    "X = df.drop(columns= ['Purchased'])\n",
    "y = df['Purchased']"
   ]
  },
  {
   "cell_type": "code",
   "execution_count": 6,
   "id": "3c49af79",
   "metadata": {},
   "outputs": [],
   "source": [
    "from sklearn.model_selection import train_test_split\n",
    "X_train, X_test, y_train, y_test = train_test_split(X, y, test_size = 0.2, random_state = 42 )"
   ]
  },
  {
   "cell_type": "code",
   "execution_count": 7,
   "id": "d9b4878b",
   "metadata": {},
   "outputs": [
    {
     "data": {
      "text/html": [
       "<div>\n",
       "<style scoped>\n",
       "    .dataframe tbody tr th:only-of-type {\n",
       "        vertical-align: middle;\n",
       "    }\n",
       "\n",
       "    .dataframe tbody tr th {\n",
       "        vertical-align: top;\n",
       "    }\n",
       "\n",
       "    .dataframe thead th {\n",
       "        text-align: right;\n",
       "    }\n",
       "</style>\n",
       "<table border=\"1\" class=\"dataframe\">\n",
       "  <thead>\n",
       "    <tr style=\"text-align: right;\">\n",
       "      <th></th>\n",
       "      <th>User ID</th>\n",
       "      <th>Gender</th>\n",
       "      <th>Age</th>\n",
       "      <th>EstimatedSalary</th>\n",
       "    </tr>\n",
       "  </thead>\n",
       "  <tbody>\n",
       "    <tr>\n",
       "      <th>3</th>\n",
       "      <td>15603246</td>\n",
       "      <td>Female</td>\n",
       "      <td>27</td>\n",
       "      <td>57000</td>\n",
       "    </tr>\n",
       "    <tr>\n",
       "      <th>18</th>\n",
       "      <td>15704583</td>\n",
       "      <td>Male</td>\n",
       "      <td>46</td>\n",
       "      <td>28000</td>\n",
       "    </tr>\n",
       "    <tr>\n",
       "      <th>202</th>\n",
       "      <td>15735549</td>\n",
       "      <td>Female</td>\n",
       "      <td>39</td>\n",
       "      <td>134000</td>\n",
       "    </tr>\n",
       "    <tr>\n",
       "      <th>250</th>\n",
       "      <td>15810075</td>\n",
       "      <td>Female</td>\n",
       "      <td>44</td>\n",
       "      <td>39000</td>\n",
       "    </tr>\n",
       "    <tr>\n",
       "      <th>274</th>\n",
       "      <td>15692819</td>\n",
       "      <td>Female</td>\n",
       "      <td>57</td>\n",
       "      <td>26000</td>\n",
       "    </tr>\n",
       "  </tbody>\n",
       "</table>\n",
       "</div>"
      ],
      "text/plain": [
       "      User ID  Gender  Age  EstimatedSalary\n",
       "3    15603246  Female   27            57000\n",
       "18   15704583    Male   46            28000\n",
       "202  15735549  Female   39           134000\n",
       "250  15810075  Female   44            39000\n",
       "274  15692819  Female   57            26000"
      ]
     },
     "execution_count": 7,
     "metadata": {},
     "output_type": "execute_result"
    }
   ],
   "source": [
    "X_train.head()"
   ]
  },
  {
   "cell_type": "code",
   "execution_count": 8,
   "id": "1e325bf3",
   "metadata": {},
   "outputs": [],
   "source": [
    "numeric_feature = X_train.select_dtypes('number').columns\n",
    "categorical_features = X_train.select_dtypes('object').columns"
   ]
  },
  {
   "cell_type": "code",
   "execution_count": 9,
   "id": "5cbfcd93",
   "metadata": {},
   "outputs": [],
   "source": [
    "numeric_transformer = make_pipeline(SimpleImputer(strategy = 'median'), StandardScaler())"
   ]
  },
  {
   "cell_type": "code",
   "execution_count": 10,
   "id": "d3231d5f",
   "metadata": {},
   "outputs": [],
   "source": [
    "categorical_transformer = make_pipeline(SimpleImputer(strategy = 'constant', fill_value = \"missing\"), OneHotEncoder())"
   ]
  },
  {
   "cell_type": "code",
   "execution_count": 11,
   "id": "8574c23e",
   "metadata": {},
   "outputs": [],
   "source": [
    "col_transformer = make_column_transformer(\n",
    "  (numeric_transformer, numeric_feature), \n",
    "    (categorical_transformer, categorical_features),\n",
    "remainder = 'passthrough')"
   ]
  },
  {
   "cell_type": "code",
   "execution_count": 12,
   "id": "429cf56a",
   "metadata": {},
   "outputs": [
    {
     "data": {
      "text/html": [
       "<style>#sk-c6504497-cf6e-4236-9704-203829aed878 {color: black;background-color: white;}#sk-c6504497-cf6e-4236-9704-203829aed878 pre{padding: 0;}#sk-c6504497-cf6e-4236-9704-203829aed878 div.sk-toggleable {background-color: white;}#sk-c6504497-cf6e-4236-9704-203829aed878 label.sk-toggleable__label {cursor: pointer;display: block;width: 100%;margin-bottom: 0;padding: 0.3em;box-sizing: border-box;text-align: center;}#sk-c6504497-cf6e-4236-9704-203829aed878 label.sk-toggleable__label-arrow:before {content: \"▸\";float: left;margin-right: 0.25em;color: #696969;}#sk-c6504497-cf6e-4236-9704-203829aed878 label.sk-toggleable__label-arrow:hover:before {color: black;}#sk-c6504497-cf6e-4236-9704-203829aed878 div.sk-estimator:hover label.sk-toggleable__label-arrow:before {color: black;}#sk-c6504497-cf6e-4236-9704-203829aed878 div.sk-toggleable__content {max-height: 0;max-width: 0;overflow: hidden;text-align: left;background-color: #f0f8ff;}#sk-c6504497-cf6e-4236-9704-203829aed878 div.sk-toggleable__content pre {margin: 0.2em;color: black;border-radius: 0.25em;background-color: #f0f8ff;}#sk-c6504497-cf6e-4236-9704-203829aed878 input.sk-toggleable__control:checked~div.sk-toggleable__content {max-height: 200px;max-width: 100%;overflow: auto;}#sk-c6504497-cf6e-4236-9704-203829aed878 input.sk-toggleable__control:checked~label.sk-toggleable__label-arrow:before {content: \"▾\";}#sk-c6504497-cf6e-4236-9704-203829aed878 div.sk-estimator input.sk-toggleable__control:checked~label.sk-toggleable__label {background-color: #d4ebff;}#sk-c6504497-cf6e-4236-9704-203829aed878 div.sk-label input.sk-toggleable__control:checked~label.sk-toggleable__label {background-color: #d4ebff;}#sk-c6504497-cf6e-4236-9704-203829aed878 input.sk-hidden--visually {border: 0;clip: rect(1px 1px 1px 1px);clip: rect(1px, 1px, 1px, 1px);height: 1px;margin: -1px;overflow: hidden;padding: 0;position: absolute;width: 1px;}#sk-c6504497-cf6e-4236-9704-203829aed878 div.sk-estimator {font-family: monospace;background-color: #f0f8ff;border: 1px dotted black;border-radius: 0.25em;box-sizing: border-box;margin-bottom: 0.5em;}#sk-c6504497-cf6e-4236-9704-203829aed878 div.sk-estimator:hover {background-color: #d4ebff;}#sk-c6504497-cf6e-4236-9704-203829aed878 div.sk-parallel-item::after {content: \"\";width: 100%;border-bottom: 1px solid gray;flex-grow: 1;}#sk-c6504497-cf6e-4236-9704-203829aed878 div.sk-label:hover label.sk-toggleable__label {background-color: #d4ebff;}#sk-c6504497-cf6e-4236-9704-203829aed878 div.sk-serial::before {content: \"\";position: absolute;border-left: 1px solid gray;box-sizing: border-box;top: 2em;bottom: 0;left: 50%;}#sk-c6504497-cf6e-4236-9704-203829aed878 div.sk-serial {display: flex;flex-direction: column;align-items: center;background-color: white;padding-right: 0.2em;padding-left: 0.2em;}#sk-c6504497-cf6e-4236-9704-203829aed878 div.sk-item {z-index: 1;}#sk-c6504497-cf6e-4236-9704-203829aed878 div.sk-parallel {display: flex;align-items: stretch;justify-content: center;background-color: white;}#sk-c6504497-cf6e-4236-9704-203829aed878 div.sk-parallel::before {content: \"\";position: absolute;border-left: 1px solid gray;box-sizing: border-box;top: 2em;bottom: 0;left: 50%;}#sk-c6504497-cf6e-4236-9704-203829aed878 div.sk-parallel-item {display: flex;flex-direction: column;position: relative;background-color: white;}#sk-c6504497-cf6e-4236-9704-203829aed878 div.sk-parallel-item:first-child::after {align-self: flex-end;width: 50%;}#sk-c6504497-cf6e-4236-9704-203829aed878 div.sk-parallel-item:last-child::after {align-self: flex-start;width: 50%;}#sk-c6504497-cf6e-4236-9704-203829aed878 div.sk-parallel-item:only-child::after {width: 0;}#sk-c6504497-cf6e-4236-9704-203829aed878 div.sk-dashed-wrapped {border: 1px dashed gray;margin: 0 0.4em 0.5em 0.4em;box-sizing: border-box;padding-bottom: 0.4em;background-color: white;position: relative;}#sk-c6504497-cf6e-4236-9704-203829aed878 div.sk-label label {font-family: monospace;font-weight: bold;background-color: white;display: inline-block;line-height: 1.2em;}#sk-c6504497-cf6e-4236-9704-203829aed878 div.sk-label-container {position: relative;z-index: 2;text-align: center;}#sk-c6504497-cf6e-4236-9704-203829aed878 div.sk-container {/* jupyter's `normalize.less` sets `[hidden] { display: none; }` but bootstrap.min.css set `[hidden] { display: none !important; }` so we also need the `!important` here to be able to override the default hidden behavior on the sphinx rendered scikit-learn.org. See: https://github.com/scikit-learn/scikit-learn/issues/21755 */display: inline-block !important;position: relative;}#sk-c6504497-cf6e-4236-9704-203829aed878 div.sk-text-repr-fallback {display: none;}</style><div id=\"sk-c6504497-cf6e-4236-9704-203829aed878\" class=\"sk-top-container\"><div class=\"sk-text-repr-fallback\"><pre>ColumnTransformer(remainder=&#x27;passthrough&#x27;,\n",
       "                  transformers=[(&#x27;pipeline-1&#x27;,\n",
       "                                 Pipeline(steps=[(&#x27;simpleimputer&#x27;,\n",
       "                                                  SimpleImputer(strategy=&#x27;median&#x27;)),\n",
       "                                                 (&#x27;standardscaler&#x27;,\n",
       "                                                  StandardScaler())]),\n",
       "                                 Index([&#x27;User ID&#x27;, &#x27;Age&#x27;, &#x27;EstimatedSalary&#x27;], dtype=&#x27;object&#x27;)),\n",
       "                                (&#x27;pipeline-2&#x27;,\n",
       "                                 Pipeline(steps=[(&#x27;simpleimputer&#x27;,\n",
       "                                                  SimpleImputer(fill_value=&#x27;missing&#x27;,\n",
       "                                                                strategy=&#x27;constant&#x27;)),\n",
       "                                                 (&#x27;onehotencoder&#x27;,\n",
       "                                                  OneHotEncoder())]),\n",
       "                                 Index([&#x27;Gender&#x27;], dtype=&#x27;object&#x27;))])</pre><b>Please rerun this cell to show the HTML repr or trust the notebook.</b></div><div class=\"sk-container\" hidden><div class=\"sk-item sk-dashed-wrapped\"><div class=\"sk-label-container\"><div class=\"sk-label sk-toggleable\"><input class=\"sk-toggleable__control sk-hidden--visually\" id=\"2cad1a1b-495d-4663-908c-07eaa28f751c\" type=\"checkbox\" ><label for=\"2cad1a1b-495d-4663-908c-07eaa28f751c\" class=\"sk-toggleable__label sk-toggleable__label-arrow\">ColumnTransformer</label><div class=\"sk-toggleable__content\"><pre>ColumnTransformer(remainder=&#x27;passthrough&#x27;,\n",
       "                  transformers=[(&#x27;pipeline-1&#x27;,\n",
       "                                 Pipeline(steps=[(&#x27;simpleimputer&#x27;,\n",
       "                                                  SimpleImputer(strategy=&#x27;median&#x27;)),\n",
       "                                                 (&#x27;standardscaler&#x27;,\n",
       "                                                  StandardScaler())]),\n",
       "                                 Index([&#x27;User ID&#x27;, &#x27;Age&#x27;, &#x27;EstimatedSalary&#x27;], dtype=&#x27;object&#x27;)),\n",
       "                                (&#x27;pipeline-2&#x27;,\n",
       "                                 Pipeline(steps=[(&#x27;simpleimputer&#x27;,\n",
       "                                                  SimpleImputer(fill_value=&#x27;missing&#x27;,\n",
       "                                                                strategy=&#x27;constant&#x27;)),\n",
       "                                                 (&#x27;onehotencoder&#x27;,\n",
       "                                                  OneHotEncoder())]),\n",
       "                                 Index([&#x27;Gender&#x27;], dtype=&#x27;object&#x27;))])</pre></div></div></div><div class=\"sk-parallel\"><div class=\"sk-parallel-item\"><div class=\"sk-item\"><div class=\"sk-label-container\"><div class=\"sk-label sk-toggleable\"><input class=\"sk-toggleable__control sk-hidden--visually\" id=\"e191ef7a-eb23-4c10-ba0c-1505c2039811\" type=\"checkbox\" ><label for=\"e191ef7a-eb23-4c10-ba0c-1505c2039811\" class=\"sk-toggleable__label sk-toggleable__label-arrow\">pipeline-1</label><div class=\"sk-toggleable__content\"><pre>Index([&#x27;User ID&#x27;, &#x27;Age&#x27;, &#x27;EstimatedSalary&#x27;], dtype=&#x27;object&#x27;)</pre></div></div></div><div class=\"sk-serial\"><div class=\"sk-item\"><div class=\"sk-serial\"><div class=\"sk-item\"><div class=\"sk-estimator sk-toggleable\"><input class=\"sk-toggleable__control sk-hidden--visually\" id=\"a44e186b-a036-4fc6-86de-f9d9ce85c6b2\" type=\"checkbox\" ><label for=\"a44e186b-a036-4fc6-86de-f9d9ce85c6b2\" class=\"sk-toggleable__label sk-toggleable__label-arrow\">SimpleImputer</label><div class=\"sk-toggleable__content\"><pre>SimpleImputer(strategy=&#x27;median&#x27;)</pre></div></div></div><div class=\"sk-item\"><div class=\"sk-estimator sk-toggleable\"><input class=\"sk-toggleable__control sk-hidden--visually\" id=\"882ea2c7-3586-4c74-b733-0ce0d2db5192\" type=\"checkbox\" ><label for=\"882ea2c7-3586-4c74-b733-0ce0d2db5192\" class=\"sk-toggleable__label sk-toggleable__label-arrow\">StandardScaler</label><div class=\"sk-toggleable__content\"><pre>StandardScaler()</pre></div></div></div></div></div></div></div></div><div class=\"sk-parallel-item\"><div class=\"sk-item\"><div class=\"sk-label-container\"><div class=\"sk-label sk-toggleable\"><input class=\"sk-toggleable__control sk-hidden--visually\" id=\"157d5860-e7a3-42cd-85b7-4f758c5d9391\" type=\"checkbox\" ><label for=\"157d5860-e7a3-42cd-85b7-4f758c5d9391\" class=\"sk-toggleable__label sk-toggleable__label-arrow\">pipeline-2</label><div class=\"sk-toggleable__content\"><pre>Index([&#x27;Gender&#x27;], dtype=&#x27;object&#x27;)</pre></div></div></div><div class=\"sk-serial\"><div class=\"sk-item\"><div class=\"sk-serial\"><div class=\"sk-item\"><div class=\"sk-estimator sk-toggleable\"><input class=\"sk-toggleable__control sk-hidden--visually\" id=\"6c2f7ad9-3d18-4af0-9b9c-d9b676121c67\" type=\"checkbox\" ><label for=\"6c2f7ad9-3d18-4af0-9b9c-d9b676121c67\" class=\"sk-toggleable__label sk-toggleable__label-arrow\">SimpleImputer</label><div class=\"sk-toggleable__content\"><pre>SimpleImputer(fill_value=&#x27;missing&#x27;, strategy=&#x27;constant&#x27;)</pre></div></div></div><div class=\"sk-item\"><div class=\"sk-estimator sk-toggleable\"><input class=\"sk-toggleable__control sk-hidden--visually\" id=\"08560a21-6a82-449a-ae5a-7d3949bfd8ad\" type=\"checkbox\" ><label for=\"08560a21-6a82-449a-ae5a-7d3949bfd8ad\" class=\"sk-toggleable__label sk-toggleable__label-arrow\">OneHotEncoder</label><div class=\"sk-toggleable__content\"><pre>OneHotEncoder()</pre></div></div></div></div></div></div></div></div><div class=\"sk-parallel-item\"><div class=\"sk-item\"><div class=\"sk-label-container\"><div class=\"sk-label sk-toggleable\"><input class=\"sk-toggleable__control sk-hidden--visually\" id=\"b7759494-ddbb-4e1e-a708-cf4a1ee12564\" type=\"checkbox\" ><label for=\"b7759494-ddbb-4e1e-a708-cf4a1ee12564\" class=\"sk-toggleable__label sk-toggleable__label-arrow\">remainder</label><div class=\"sk-toggleable__content\"><pre>[]</pre></div></div></div><div class=\"sk-serial\"><div class=\"sk-item\"><div class=\"sk-estimator sk-toggleable\"><input class=\"sk-toggleable__control sk-hidden--visually\" id=\"3454072a-dd04-4272-a0da-7a7011e22675\" type=\"checkbox\" ><label for=\"3454072a-dd04-4272-a0da-7a7011e22675\" class=\"sk-toggleable__label sk-toggleable__label-arrow\">passthrough</label><div class=\"sk-toggleable__content\"><pre>passthrough</pre></div></div></div></div></div></div></div></div></div></div>"
      ],
      "text/plain": [
       "ColumnTransformer(remainder='passthrough',\n",
       "                  transformers=[('pipeline-1',\n",
       "                                 Pipeline(steps=[('simpleimputer',\n",
       "                                                  SimpleImputer(strategy='median')),\n",
       "                                                 ('standardscaler',\n",
       "                                                  StandardScaler())]),\n",
       "                                 Index(['User ID', 'Age', 'EstimatedSalary'], dtype='object')),\n",
       "                                ('pipeline-2',\n",
       "                                 Pipeline(steps=[('simpleimputer',\n",
       "                                                  SimpleImputer(fill_value='missing',\n",
       "                                                                strategy='constant')),\n",
       "                                                 ('onehotencoder',\n",
       "                                                  OneHotEncoder())]),\n",
       "                                 Index(['Gender'], dtype='object'))])"
      ]
     },
     "execution_count": 12,
     "metadata": {},
     "output_type": "execute_result"
    }
   ],
   "source": [
    "col_transformer.fit(X_train)"
   ]
  },
  {
   "cell_type": "code",
   "execution_count": 13,
   "id": "a472e6bd",
   "metadata": {},
   "outputs": [],
   "source": [
    "pipe = make_pipeline(col_transformer, SVR())"
   ]
  },
  {
   "cell_type": "code",
   "execution_count": 14,
   "id": "3829ef30",
   "metadata": {},
   "outputs": [
    {
     "data": {
      "text/html": [
       "<style>#sk-d654ca82-ea02-477d-ae49-b5273325aa14 {color: black;background-color: white;}#sk-d654ca82-ea02-477d-ae49-b5273325aa14 pre{padding: 0;}#sk-d654ca82-ea02-477d-ae49-b5273325aa14 div.sk-toggleable {background-color: white;}#sk-d654ca82-ea02-477d-ae49-b5273325aa14 label.sk-toggleable__label {cursor: pointer;display: block;width: 100%;margin-bottom: 0;padding: 0.3em;box-sizing: border-box;text-align: center;}#sk-d654ca82-ea02-477d-ae49-b5273325aa14 label.sk-toggleable__label-arrow:before {content: \"▸\";float: left;margin-right: 0.25em;color: #696969;}#sk-d654ca82-ea02-477d-ae49-b5273325aa14 label.sk-toggleable__label-arrow:hover:before {color: black;}#sk-d654ca82-ea02-477d-ae49-b5273325aa14 div.sk-estimator:hover label.sk-toggleable__label-arrow:before {color: black;}#sk-d654ca82-ea02-477d-ae49-b5273325aa14 div.sk-toggleable__content {max-height: 0;max-width: 0;overflow: hidden;text-align: left;background-color: #f0f8ff;}#sk-d654ca82-ea02-477d-ae49-b5273325aa14 div.sk-toggleable__content pre {margin: 0.2em;color: black;border-radius: 0.25em;background-color: #f0f8ff;}#sk-d654ca82-ea02-477d-ae49-b5273325aa14 input.sk-toggleable__control:checked~div.sk-toggleable__content {max-height: 200px;max-width: 100%;overflow: auto;}#sk-d654ca82-ea02-477d-ae49-b5273325aa14 input.sk-toggleable__control:checked~label.sk-toggleable__label-arrow:before {content: \"▾\";}#sk-d654ca82-ea02-477d-ae49-b5273325aa14 div.sk-estimator input.sk-toggleable__control:checked~label.sk-toggleable__label {background-color: #d4ebff;}#sk-d654ca82-ea02-477d-ae49-b5273325aa14 div.sk-label input.sk-toggleable__control:checked~label.sk-toggleable__label {background-color: #d4ebff;}#sk-d654ca82-ea02-477d-ae49-b5273325aa14 input.sk-hidden--visually {border: 0;clip: rect(1px 1px 1px 1px);clip: rect(1px, 1px, 1px, 1px);height: 1px;margin: -1px;overflow: hidden;padding: 0;position: absolute;width: 1px;}#sk-d654ca82-ea02-477d-ae49-b5273325aa14 div.sk-estimator {font-family: monospace;background-color: #f0f8ff;border: 1px dotted black;border-radius: 0.25em;box-sizing: border-box;margin-bottom: 0.5em;}#sk-d654ca82-ea02-477d-ae49-b5273325aa14 div.sk-estimator:hover {background-color: #d4ebff;}#sk-d654ca82-ea02-477d-ae49-b5273325aa14 div.sk-parallel-item::after {content: \"\";width: 100%;border-bottom: 1px solid gray;flex-grow: 1;}#sk-d654ca82-ea02-477d-ae49-b5273325aa14 div.sk-label:hover label.sk-toggleable__label {background-color: #d4ebff;}#sk-d654ca82-ea02-477d-ae49-b5273325aa14 div.sk-serial::before {content: \"\";position: absolute;border-left: 1px solid gray;box-sizing: border-box;top: 2em;bottom: 0;left: 50%;}#sk-d654ca82-ea02-477d-ae49-b5273325aa14 div.sk-serial {display: flex;flex-direction: column;align-items: center;background-color: white;padding-right: 0.2em;padding-left: 0.2em;}#sk-d654ca82-ea02-477d-ae49-b5273325aa14 div.sk-item {z-index: 1;}#sk-d654ca82-ea02-477d-ae49-b5273325aa14 div.sk-parallel {display: flex;align-items: stretch;justify-content: center;background-color: white;}#sk-d654ca82-ea02-477d-ae49-b5273325aa14 div.sk-parallel::before {content: \"\";position: absolute;border-left: 1px solid gray;box-sizing: border-box;top: 2em;bottom: 0;left: 50%;}#sk-d654ca82-ea02-477d-ae49-b5273325aa14 div.sk-parallel-item {display: flex;flex-direction: column;position: relative;background-color: white;}#sk-d654ca82-ea02-477d-ae49-b5273325aa14 div.sk-parallel-item:first-child::after {align-self: flex-end;width: 50%;}#sk-d654ca82-ea02-477d-ae49-b5273325aa14 div.sk-parallel-item:last-child::after {align-self: flex-start;width: 50%;}#sk-d654ca82-ea02-477d-ae49-b5273325aa14 div.sk-parallel-item:only-child::after {width: 0;}#sk-d654ca82-ea02-477d-ae49-b5273325aa14 div.sk-dashed-wrapped {border: 1px dashed gray;margin: 0 0.4em 0.5em 0.4em;box-sizing: border-box;padding-bottom: 0.4em;background-color: white;position: relative;}#sk-d654ca82-ea02-477d-ae49-b5273325aa14 div.sk-label label {font-family: monospace;font-weight: bold;background-color: white;display: inline-block;line-height: 1.2em;}#sk-d654ca82-ea02-477d-ae49-b5273325aa14 div.sk-label-container {position: relative;z-index: 2;text-align: center;}#sk-d654ca82-ea02-477d-ae49-b5273325aa14 div.sk-container {/* jupyter's `normalize.less` sets `[hidden] { display: none; }` but bootstrap.min.css set `[hidden] { display: none !important; }` so we also need the `!important` here to be able to override the default hidden behavior on the sphinx rendered scikit-learn.org. See: https://github.com/scikit-learn/scikit-learn/issues/21755 */display: inline-block !important;position: relative;}#sk-d654ca82-ea02-477d-ae49-b5273325aa14 div.sk-text-repr-fallback {display: none;}</style><div id=\"sk-d654ca82-ea02-477d-ae49-b5273325aa14\" class=\"sk-top-container\"><div class=\"sk-text-repr-fallback\"><pre>Pipeline(steps=[(&#x27;columntransformer&#x27;,\n",
       "                 ColumnTransformer(remainder=&#x27;passthrough&#x27;,\n",
       "                                   transformers=[(&#x27;pipeline-1&#x27;,\n",
       "                                                  Pipeline(steps=[(&#x27;simpleimputer&#x27;,\n",
       "                                                                   SimpleImputer(strategy=&#x27;median&#x27;)),\n",
       "                                                                  (&#x27;standardscaler&#x27;,\n",
       "                                                                   StandardScaler())]),\n",
       "                                                  Index([&#x27;User ID&#x27;, &#x27;Age&#x27;, &#x27;EstimatedSalary&#x27;], dtype=&#x27;object&#x27;)),\n",
       "                                                 (&#x27;pipeline-2&#x27;,\n",
       "                                                  Pipeline(steps=[(&#x27;simpleimputer&#x27;,\n",
       "                                                                   SimpleImputer(fill_value=&#x27;missing&#x27;,\n",
       "                                                                                 strategy=&#x27;constant&#x27;)),\n",
       "                                                                  (&#x27;onehotencoder&#x27;,\n",
       "                                                                   OneHotEncoder())]),\n",
       "                                                  Index([&#x27;Gender&#x27;], dtype=&#x27;object&#x27;))])),\n",
       "                (&#x27;svr&#x27;, SVR())])</pre><b>Please rerun this cell to show the HTML repr or trust the notebook.</b></div><div class=\"sk-container\" hidden><div class=\"sk-item sk-dashed-wrapped\"><div class=\"sk-label-container\"><div class=\"sk-label sk-toggleable\"><input class=\"sk-toggleable__control sk-hidden--visually\" id=\"cd6099be-1dbb-4872-9c02-067fb76c38cd\" type=\"checkbox\" ><label for=\"cd6099be-1dbb-4872-9c02-067fb76c38cd\" class=\"sk-toggleable__label sk-toggleable__label-arrow\">Pipeline</label><div class=\"sk-toggleable__content\"><pre>Pipeline(steps=[(&#x27;columntransformer&#x27;,\n",
       "                 ColumnTransformer(remainder=&#x27;passthrough&#x27;,\n",
       "                                   transformers=[(&#x27;pipeline-1&#x27;,\n",
       "                                                  Pipeline(steps=[(&#x27;simpleimputer&#x27;,\n",
       "                                                                   SimpleImputer(strategy=&#x27;median&#x27;)),\n",
       "                                                                  (&#x27;standardscaler&#x27;,\n",
       "                                                                   StandardScaler())]),\n",
       "                                                  Index([&#x27;User ID&#x27;, &#x27;Age&#x27;, &#x27;EstimatedSalary&#x27;], dtype=&#x27;object&#x27;)),\n",
       "                                                 (&#x27;pipeline-2&#x27;,\n",
       "                                                  Pipeline(steps=[(&#x27;simpleimputer&#x27;,\n",
       "                                                                   SimpleImputer(fill_value=&#x27;missing&#x27;,\n",
       "                                                                                 strategy=&#x27;constant&#x27;)),\n",
       "                                                                  (&#x27;onehotencoder&#x27;,\n",
       "                                                                   OneHotEncoder())]),\n",
       "                                                  Index([&#x27;Gender&#x27;], dtype=&#x27;object&#x27;))])),\n",
       "                (&#x27;svr&#x27;, SVR())])</pre></div></div></div><div class=\"sk-serial\"><div class=\"sk-item sk-dashed-wrapped\"><div class=\"sk-label-container\"><div class=\"sk-label sk-toggleable\"><input class=\"sk-toggleable__control sk-hidden--visually\" id=\"388a9558-7b47-4402-a91c-eca78dc1c57c\" type=\"checkbox\" ><label for=\"388a9558-7b47-4402-a91c-eca78dc1c57c\" class=\"sk-toggleable__label sk-toggleable__label-arrow\">columntransformer: ColumnTransformer</label><div class=\"sk-toggleable__content\"><pre>ColumnTransformer(remainder=&#x27;passthrough&#x27;,\n",
       "                  transformers=[(&#x27;pipeline-1&#x27;,\n",
       "                                 Pipeline(steps=[(&#x27;simpleimputer&#x27;,\n",
       "                                                  SimpleImputer(strategy=&#x27;median&#x27;)),\n",
       "                                                 (&#x27;standardscaler&#x27;,\n",
       "                                                  StandardScaler())]),\n",
       "                                 Index([&#x27;User ID&#x27;, &#x27;Age&#x27;, &#x27;EstimatedSalary&#x27;], dtype=&#x27;object&#x27;)),\n",
       "                                (&#x27;pipeline-2&#x27;,\n",
       "                                 Pipeline(steps=[(&#x27;simpleimputer&#x27;,\n",
       "                                                  SimpleImputer(fill_value=&#x27;missing&#x27;,\n",
       "                                                                strategy=&#x27;constant&#x27;)),\n",
       "                                                 (&#x27;onehotencoder&#x27;,\n",
       "                                                  OneHotEncoder())]),\n",
       "                                 Index([&#x27;Gender&#x27;], dtype=&#x27;object&#x27;))])</pre></div></div></div><div class=\"sk-parallel\"><div class=\"sk-parallel-item\"><div class=\"sk-item\"><div class=\"sk-label-container\"><div class=\"sk-label sk-toggleable\"><input class=\"sk-toggleable__control sk-hidden--visually\" id=\"3ce4f301-36c5-4c4c-a4a1-667cee4e285f\" type=\"checkbox\" ><label for=\"3ce4f301-36c5-4c4c-a4a1-667cee4e285f\" class=\"sk-toggleable__label sk-toggleable__label-arrow\">pipeline-1</label><div class=\"sk-toggleable__content\"><pre>Index([&#x27;User ID&#x27;, &#x27;Age&#x27;, &#x27;EstimatedSalary&#x27;], dtype=&#x27;object&#x27;)</pre></div></div></div><div class=\"sk-serial\"><div class=\"sk-item\"><div class=\"sk-serial\"><div class=\"sk-item\"><div class=\"sk-estimator sk-toggleable\"><input class=\"sk-toggleable__control sk-hidden--visually\" id=\"6144ec52-99ed-4642-859a-a5b7ffe8b566\" type=\"checkbox\" ><label for=\"6144ec52-99ed-4642-859a-a5b7ffe8b566\" class=\"sk-toggleable__label sk-toggleable__label-arrow\">SimpleImputer</label><div class=\"sk-toggleable__content\"><pre>SimpleImputer(strategy=&#x27;median&#x27;)</pre></div></div></div><div class=\"sk-item\"><div class=\"sk-estimator sk-toggleable\"><input class=\"sk-toggleable__control sk-hidden--visually\" id=\"1f57f3f1-0c76-4456-b3e3-6f7a4294c6b4\" type=\"checkbox\" ><label for=\"1f57f3f1-0c76-4456-b3e3-6f7a4294c6b4\" class=\"sk-toggleable__label sk-toggleable__label-arrow\">StandardScaler</label><div class=\"sk-toggleable__content\"><pre>StandardScaler()</pre></div></div></div></div></div></div></div></div><div class=\"sk-parallel-item\"><div class=\"sk-item\"><div class=\"sk-label-container\"><div class=\"sk-label sk-toggleable\"><input class=\"sk-toggleable__control sk-hidden--visually\" id=\"20b833f4-4ec9-4293-884f-d73eb99f8e78\" type=\"checkbox\" ><label for=\"20b833f4-4ec9-4293-884f-d73eb99f8e78\" class=\"sk-toggleable__label sk-toggleable__label-arrow\">pipeline-2</label><div class=\"sk-toggleable__content\"><pre>Index([&#x27;Gender&#x27;], dtype=&#x27;object&#x27;)</pre></div></div></div><div class=\"sk-serial\"><div class=\"sk-item\"><div class=\"sk-serial\"><div class=\"sk-item\"><div class=\"sk-estimator sk-toggleable\"><input class=\"sk-toggleable__control sk-hidden--visually\" id=\"0ea96ed0-a1b2-4b98-a2f7-63ba4d256990\" type=\"checkbox\" ><label for=\"0ea96ed0-a1b2-4b98-a2f7-63ba4d256990\" class=\"sk-toggleable__label sk-toggleable__label-arrow\">SimpleImputer</label><div class=\"sk-toggleable__content\"><pre>SimpleImputer(fill_value=&#x27;missing&#x27;, strategy=&#x27;constant&#x27;)</pre></div></div></div><div class=\"sk-item\"><div class=\"sk-estimator sk-toggleable\"><input class=\"sk-toggleable__control sk-hidden--visually\" id=\"e5c616e7-096e-4c32-90a1-9b1598b16d8b\" type=\"checkbox\" ><label for=\"e5c616e7-096e-4c32-90a1-9b1598b16d8b\" class=\"sk-toggleable__label sk-toggleable__label-arrow\">OneHotEncoder</label><div class=\"sk-toggleable__content\"><pre>OneHotEncoder()</pre></div></div></div></div></div></div></div></div><div class=\"sk-parallel-item\"><div class=\"sk-item\"><div class=\"sk-label-container\"><div class=\"sk-label sk-toggleable\"><input class=\"sk-toggleable__control sk-hidden--visually\" id=\"e78eae25-91d1-46f4-a41e-e578936a1a44\" type=\"checkbox\" ><label for=\"e78eae25-91d1-46f4-a41e-e578936a1a44\" class=\"sk-toggleable__label sk-toggleable__label-arrow\">remainder</label><div class=\"sk-toggleable__content\"><pre>[]</pre></div></div></div><div class=\"sk-serial\"><div class=\"sk-item\"><div class=\"sk-estimator sk-toggleable\"><input class=\"sk-toggleable__control sk-hidden--visually\" id=\"e8c11725-5705-4e6f-bdb1-a85bfd369044\" type=\"checkbox\" ><label for=\"e8c11725-5705-4e6f-bdb1-a85bfd369044\" class=\"sk-toggleable__label sk-toggleable__label-arrow\">passthrough</label><div class=\"sk-toggleable__content\"><pre>passthrough</pre></div></div></div></div></div></div></div></div><div class=\"sk-item\"><div class=\"sk-estimator sk-toggleable\"><input class=\"sk-toggleable__control sk-hidden--visually\" id=\"2083adea-a8c7-48ab-b7b3-f97f17d247f6\" type=\"checkbox\" ><label for=\"2083adea-a8c7-48ab-b7b3-f97f17d247f6\" class=\"sk-toggleable__label sk-toggleable__label-arrow\">SVR</label><div class=\"sk-toggleable__content\"><pre>SVR()</pre></div></div></div></div></div></div></div>"
      ],
      "text/plain": [
       "Pipeline(steps=[('columntransformer',\n",
       "                 ColumnTransformer(remainder='passthrough',\n",
       "                                   transformers=[('pipeline-1',\n",
       "                                                  Pipeline(steps=[('simpleimputer',\n",
       "                                                                   SimpleImputer(strategy='median')),\n",
       "                                                                  ('standardscaler',\n",
       "                                                                   StandardScaler())]),\n",
       "                                                  Index(['User ID', 'Age', 'EstimatedSalary'], dtype='object')),\n",
       "                                                 ('pipeline-2',\n",
       "                                                  Pipeline(steps=[('simpleimputer',\n",
       "                                                                   SimpleImputer(fill_value='missing',\n",
       "                                                                                 strategy='constant')),\n",
       "                                                                  ('onehotencoder',\n",
       "                                                                   OneHotEncoder())]),\n",
       "                                                  Index(['Gender'], dtype='object'))])),\n",
       "                ('svr', SVR())])"
      ]
     },
     "execution_count": 14,
     "metadata": {},
     "output_type": "execute_result"
    }
   ],
   "source": [
    "pipe.fit(X_train, y_train)"
   ]
  },
  {
   "cell_type": "code",
   "execution_count": 15,
   "id": "80d664a4",
   "metadata": {},
   "outputs": [],
   "source": [
    "from sklearn.model_selection import cross_validate\n",
    "with_categorical_score = cross_validate(pipe, X_train, y_train, return_train_score = True)"
   ]
  },
  {
   "cell_type": "code",
   "execution_count": 16,
   "id": "4b1811b8",
   "metadata": {},
   "outputs": [
    {
     "data": {
      "text/html": [
       "<div>\n",
       "<style scoped>\n",
       "    .dataframe tbody tr th:only-of-type {\n",
       "        vertical-align: middle;\n",
       "    }\n",
       "\n",
       "    .dataframe tbody tr th {\n",
       "        vertical-align: top;\n",
       "    }\n",
       "\n",
       "    .dataframe thead th {\n",
       "        text-align: right;\n",
       "    }\n",
       "</style>\n",
       "<table border=\"1\" class=\"dataframe\">\n",
       "  <thead>\n",
       "    <tr style=\"text-align: right;\">\n",
       "      <th></th>\n",
       "      <th>fit_time</th>\n",
       "      <th>score_time</th>\n",
       "      <th>test_score</th>\n",
       "      <th>train_score</th>\n",
       "    </tr>\n",
       "  </thead>\n",
       "  <tbody>\n",
       "    <tr>\n",
       "      <th>0</th>\n",
       "      <td>0.073368</td>\n",
       "      <td>0.015621</td>\n",
       "      <td>0.795934</td>\n",
       "      <td>0.667890</td>\n",
       "    </tr>\n",
       "    <tr>\n",
       "      <th>1</th>\n",
       "      <td>0.031243</td>\n",
       "      <td>0.015620</td>\n",
       "      <td>0.650135</td>\n",
       "      <td>0.705756</td>\n",
       "    </tr>\n",
       "    <tr>\n",
       "      <th>2</th>\n",
       "      <td>0.031240</td>\n",
       "      <td>0.015623</td>\n",
       "      <td>0.690988</td>\n",
       "      <td>0.690631</td>\n",
       "    </tr>\n",
       "    <tr>\n",
       "      <th>3</th>\n",
       "      <td>0.015621</td>\n",
       "      <td>0.015619</td>\n",
       "      <td>0.339165</td>\n",
       "      <td>0.770832</td>\n",
       "    </tr>\n",
       "    <tr>\n",
       "      <th>4</th>\n",
       "      <td>0.031242</td>\n",
       "      <td>0.000000</td>\n",
       "      <td>0.570125</td>\n",
       "      <td>0.714782</td>\n",
       "    </tr>\n",
       "  </tbody>\n",
       "</table>\n",
       "</div>"
      ],
      "text/plain": [
       "   fit_time  score_time  test_score  train_score\n",
       "0  0.073368    0.015621    0.795934     0.667890\n",
       "1  0.031243    0.015620    0.650135     0.705756\n",
       "2  0.031240    0.015623    0.690988     0.690631\n",
       "3  0.015621    0.015619    0.339165     0.770832\n",
       "4  0.031242    0.000000    0.570125     0.714782"
      ]
     },
     "execution_count": 16,
     "metadata": {},
     "output_type": "execute_result"
    }
   ],
   "source": [
    "categorical_score = pd.DataFrame(with_categorical_score)\n",
    "categorical_score"
   ]
  },
  {
   "cell_type": "code",
   "execution_count": 17,
   "id": "920195c7",
   "metadata": {},
   "outputs": [
    {
     "data": {
      "text/plain": [
       "array([ 0.87625631,  0.86736248, -0.07931743,  0.69217123, -0.05313089,\n",
       "       -0.13901417,  0.69190223,  0.02817457,  0.16325828,  0.19807422,\n",
       "       -0.10076782,  0.89433916,  0.01065316,  0.07582655,  0.15985929,\n",
       "        0.70858049,  1.00049024,  0.3911424 ,  0.10012762,  0.99641551,\n",
       "        0.10678977,  0.05147133,  0.74980205,  0.84336177,  0.12759535,\n",
       "        1.20580316,  0.31666013, -0.06163329,  0.92748707,  0.05981917,\n",
       "        0.63502034, -0.09711366,  1.10004291,  0.00401637,  0.75138167,\n",
       "        0.06231008, -0.11532233, -0.03335393,  0.00189706, -0.00192054,\n",
       "        0.84640603, -0.05932713, -0.01590288,  0.90495651, -0.03506879,\n",
       "        1.00725144, -0.13829486, -0.09997341,  0.75073696, -0.0057964 ,\n",
       "       -0.01054077,  0.74613218, -0.14669686, -0.03868968,  0.03029141,\n",
       "        0.00192769,  1.18289547,  0.51794472, -0.0032324 ,  0.01259342,\n",
       "        0.17137968, -0.03461878,  0.77194433,  0.14285665, -0.1122674 ,\n",
       "        0.9451779 ,  0.3240872 ,  1.01618762, -0.05060527,  0.68524378,\n",
       "        0.9845271 ,  0.02753245, -0.12481044,  0.06854479,  0.76396009,\n",
       "       -0.07551551,  1.05754547,  1.15677146, -0.0402911 ,  0.05910527])"
      ]
     },
     "execution_count": 17,
     "metadata": {},
     "output_type": "execute_result"
    }
   ],
   "source": [
    "pipe.predict(X_test)"
   ]
  },
  {
   "cell_type": "code",
   "execution_count": 18,
   "id": "a2fb0adc",
   "metadata": {},
   "outputs": [
    {
     "data": {
      "text/plain": [
       "0.7037493762398916"
      ]
     },
     "execution_count": 18,
     "metadata": {},
     "output_type": "execute_result"
    }
   ],
   "source": [
    "pipe.score(X_train, y_train)"
   ]
  },
  {
   "cell_type": "code",
   "execution_count": 19,
   "id": "a36a96b1",
   "metadata": {},
   "outputs": [
    {
     "data": {
      "text/plain": [
       "0.7330628059965907"
      ]
     },
     "execution_count": 19,
     "metadata": {},
     "output_type": "execute_result"
    }
   ],
   "source": [
    "pipe.score(X_test, y_test)"
   ]
  }
 ],
 "metadata": {
  "kernelspec": {
   "display_name": "project1",
   "language": "python",
   "name": "project1"
  },
  "language_info": {
   "codemirror_mode": {
    "name": "ipython",
    "version": 3
   },
   "file_extension": ".py",
   "mimetype": "text/x-python",
   "name": "python",
   "nbconvert_exporter": "python",
   "pygments_lexer": "ipython3",
   "version": "3.7.12"
  }
 },
 "nbformat": 4,
 "nbformat_minor": 5
}
