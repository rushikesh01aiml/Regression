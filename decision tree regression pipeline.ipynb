{
 "cells": [
  {
   "cell_type": "code",
   "execution_count": 26,
   "id": "cc167356",
   "metadata": {},
   "outputs": [],
   "source": [
    "import pandas as pd\n",
    "import numpy as np\n",
    "import matplotlib.pyplot as plt\n",
    "from sklearn.pipeline import make_pipeline, Pipeline\n",
    "from sklearn.compose import make_column_transformer\n",
    "from sklearn.preprocessing import StandardScaler\n",
    "from sklearn.preprocessing import OneHotEncoder\n",
    "from sklearn.impute import SimpleImputer\n",
    "from sklearn.tree import DecisionTreeRegressor\n",
    "from sklearn import set_config\n",
    "set_config(display = 'diagram')"
   ]
  },
  {
   "cell_type": "code",
   "execution_count": 42,
   "id": "94af4c2e",
   "metadata": {},
   "outputs": [],
   "source": [
    "df = pd.read_csv('gld_price_data.csv')\n",
    "df['Date'] = pd.to_datetime(df['Date'])"
   ]
  },
  {
   "cell_type": "code",
   "execution_count": 43,
   "id": "8f460957",
   "metadata": {},
   "outputs": [],
   "source": [
    "df = pd.read_csv('gld_price_data.csv', parse_dates = ['Date'])"
   ]
  },
  {
   "cell_type": "code",
   "execution_count": 44,
   "id": "93cf3ac1",
   "metadata": {},
   "outputs": [],
   "source": [
    "df['Month'] = df['Date'].dt.month\n",
    "df['Year'] = df['Date'].dt.year"
   ]
  },
  {
   "cell_type": "code",
   "execution_count": 45,
   "id": "b835fc97",
   "metadata": {},
   "outputs": [
    {
     "data": {
      "text/html": [
       "<div>\n",
       "<style scoped>\n",
       "    .dataframe tbody tr th:only-of-type {\n",
       "        vertical-align: middle;\n",
       "    }\n",
       "\n",
       "    .dataframe tbody tr th {\n",
       "        vertical-align: top;\n",
       "    }\n",
       "\n",
       "    .dataframe thead th {\n",
       "        text-align: right;\n",
       "    }\n",
       "</style>\n",
       "<table border=\"1\" class=\"dataframe\">\n",
       "  <thead>\n",
       "    <tr style=\"text-align: right;\">\n",
       "      <th></th>\n",
       "      <th>Date</th>\n",
       "      <th>SPX</th>\n",
       "      <th>GLD</th>\n",
       "      <th>USO</th>\n",
       "      <th>SLV</th>\n",
       "      <th>EUR/USD</th>\n",
       "      <th>Month</th>\n",
       "      <th>Year</th>\n",
       "    </tr>\n",
       "  </thead>\n",
       "  <tbody>\n",
       "    <tr>\n",
       "      <th>0</th>\n",
       "      <td>2008-01-02</td>\n",
       "      <td>1447.160034</td>\n",
       "      <td>84.860001</td>\n",
       "      <td>78.470001</td>\n",
       "      <td>15.1800</td>\n",
       "      <td>1.471692</td>\n",
       "      <td>1</td>\n",
       "      <td>2008</td>\n",
       "    </tr>\n",
       "    <tr>\n",
       "      <th>1</th>\n",
       "      <td>2008-01-03</td>\n",
       "      <td>1447.160034</td>\n",
       "      <td>85.570000</td>\n",
       "      <td>78.370003</td>\n",
       "      <td>15.2850</td>\n",
       "      <td>1.474491</td>\n",
       "      <td>1</td>\n",
       "      <td>2008</td>\n",
       "    </tr>\n",
       "    <tr>\n",
       "      <th>2</th>\n",
       "      <td>2008-01-04</td>\n",
       "      <td>1411.630005</td>\n",
       "      <td>85.129997</td>\n",
       "      <td>77.309998</td>\n",
       "      <td>15.1670</td>\n",
       "      <td>1.475492</td>\n",
       "      <td>1</td>\n",
       "      <td>2008</td>\n",
       "    </tr>\n",
       "    <tr>\n",
       "      <th>3</th>\n",
       "      <td>2008-01-07</td>\n",
       "      <td>1416.180054</td>\n",
       "      <td>84.769997</td>\n",
       "      <td>75.500000</td>\n",
       "      <td>15.0530</td>\n",
       "      <td>1.468299</td>\n",
       "      <td>1</td>\n",
       "      <td>2008</td>\n",
       "    </tr>\n",
       "    <tr>\n",
       "      <th>4</th>\n",
       "      <td>2008-01-08</td>\n",
       "      <td>1390.189941</td>\n",
       "      <td>86.779999</td>\n",
       "      <td>76.059998</td>\n",
       "      <td>15.5900</td>\n",
       "      <td>1.557099</td>\n",
       "      <td>1</td>\n",
       "      <td>2008</td>\n",
       "    </tr>\n",
       "    <tr>\n",
       "      <th>...</th>\n",
       "      <td>...</td>\n",
       "      <td>...</td>\n",
       "      <td>...</td>\n",
       "      <td>...</td>\n",
       "      <td>...</td>\n",
       "      <td>...</td>\n",
       "      <td>...</td>\n",
       "      <td>...</td>\n",
       "    </tr>\n",
       "    <tr>\n",
       "      <th>2285</th>\n",
       "      <td>2018-05-08</td>\n",
       "      <td>2671.919922</td>\n",
       "      <td>124.589996</td>\n",
       "      <td>14.060000</td>\n",
       "      <td>15.5100</td>\n",
       "      <td>1.186789</td>\n",
       "      <td>5</td>\n",
       "      <td>2018</td>\n",
       "    </tr>\n",
       "    <tr>\n",
       "      <th>2286</th>\n",
       "      <td>2018-05-09</td>\n",
       "      <td>2697.790039</td>\n",
       "      <td>124.330002</td>\n",
       "      <td>14.370000</td>\n",
       "      <td>15.5300</td>\n",
       "      <td>1.184722</td>\n",
       "      <td>5</td>\n",
       "      <td>2018</td>\n",
       "    </tr>\n",
       "    <tr>\n",
       "      <th>2287</th>\n",
       "      <td>2018-05-10</td>\n",
       "      <td>2723.070068</td>\n",
       "      <td>125.180000</td>\n",
       "      <td>14.410000</td>\n",
       "      <td>15.7400</td>\n",
       "      <td>1.191753</td>\n",
       "      <td>5</td>\n",
       "      <td>2018</td>\n",
       "    </tr>\n",
       "    <tr>\n",
       "      <th>2288</th>\n",
       "      <td>2018-05-14</td>\n",
       "      <td>2730.129883</td>\n",
       "      <td>124.489998</td>\n",
       "      <td>14.380000</td>\n",
       "      <td>15.5600</td>\n",
       "      <td>1.193118</td>\n",
       "      <td>5</td>\n",
       "      <td>2018</td>\n",
       "    </tr>\n",
       "    <tr>\n",
       "      <th>2289</th>\n",
       "      <td>2018-05-16</td>\n",
       "      <td>2725.780029</td>\n",
       "      <td>122.543800</td>\n",
       "      <td>14.405800</td>\n",
       "      <td>15.4542</td>\n",
       "      <td>1.182033</td>\n",
       "      <td>5</td>\n",
       "      <td>2018</td>\n",
       "    </tr>\n",
       "  </tbody>\n",
       "</table>\n",
       "<p>2290 rows × 8 columns</p>\n",
       "</div>"
      ],
      "text/plain": [
       "           Date          SPX         GLD        USO      SLV   EUR/USD  Month  \\\n",
       "0    2008-01-02  1447.160034   84.860001  78.470001  15.1800  1.471692      1   \n",
       "1    2008-01-03  1447.160034   85.570000  78.370003  15.2850  1.474491      1   \n",
       "2    2008-01-04  1411.630005   85.129997  77.309998  15.1670  1.475492      1   \n",
       "3    2008-01-07  1416.180054   84.769997  75.500000  15.0530  1.468299      1   \n",
       "4    2008-01-08  1390.189941   86.779999  76.059998  15.5900  1.557099      1   \n",
       "...         ...          ...         ...        ...      ...       ...    ...   \n",
       "2285 2018-05-08  2671.919922  124.589996  14.060000  15.5100  1.186789      5   \n",
       "2286 2018-05-09  2697.790039  124.330002  14.370000  15.5300  1.184722      5   \n",
       "2287 2018-05-10  2723.070068  125.180000  14.410000  15.7400  1.191753      5   \n",
       "2288 2018-05-14  2730.129883  124.489998  14.380000  15.5600  1.193118      5   \n",
       "2289 2018-05-16  2725.780029  122.543800  14.405800  15.4542  1.182033      5   \n",
       "\n",
       "      Year  \n",
       "0     2008  \n",
       "1     2008  \n",
       "2     2008  \n",
       "3     2008  \n",
       "4     2008  \n",
       "...    ...  \n",
       "2285  2018  \n",
       "2286  2018  \n",
       "2287  2018  \n",
       "2288  2018  \n",
       "2289  2018  \n",
       "\n",
       "[2290 rows x 8 columns]"
      ]
     },
     "execution_count": 45,
     "metadata": {},
     "output_type": "execute_result"
    }
   ],
   "source": [
    "df"
   ]
  },
  {
   "cell_type": "code",
   "execution_count": 46,
   "id": "8c2e84fa",
   "metadata": {},
   "outputs": [],
   "source": [
    "df = df.drop(columns = ['Date'])"
   ]
  },
  {
   "cell_type": "code",
   "execution_count": 47,
   "id": "06c74c16",
   "metadata": {},
   "outputs": [
    {
     "data": {
      "text/plain": [
       "SPX        0\n",
       "GLD        0\n",
       "USO        0\n",
       "SLV        0\n",
       "EUR/USD    0\n",
       "Month      0\n",
       "Year       0\n",
       "dtype: int64"
      ]
     },
     "execution_count": 47,
     "metadata": {},
     "output_type": "execute_result"
    }
   ],
   "source": [
    "df.isnull().sum()"
   ]
  },
  {
   "cell_type": "code",
   "execution_count": 48,
   "id": "a00e4af3",
   "metadata": {},
   "outputs": [],
   "source": [
    "X = df.drop(columns = ['GLD'])\n",
    "y = df['GLD']"
   ]
  },
  {
   "cell_type": "code",
   "execution_count": 49,
   "id": "f3e429d7",
   "metadata": {},
   "outputs": [],
   "source": [
    "from sklearn.model_selection import train_test_split\n",
    "X_train, X_test, y_train, y_test = train_test_split(X, y, test_size = 0.2, random_state = 0)"
   ]
  },
  {
   "cell_type": "code",
   "execution_count": 50,
   "id": "8bc7a353",
   "metadata": {},
   "outputs": [
    {
     "data": {
      "text/html": [
       "<div>\n",
       "<style scoped>\n",
       "    .dataframe tbody tr th:only-of-type {\n",
       "        vertical-align: middle;\n",
       "    }\n",
       "\n",
       "    .dataframe tbody tr th {\n",
       "        vertical-align: top;\n",
       "    }\n",
       "\n",
       "    .dataframe thead th {\n",
       "        text-align: right;\n",
       "    }\n",
       "</style>\n",
       "<table border=\"1\" class=\"dataframe\">\n",
       "  <thead>\n",
       "    <tr style=\"text-align: right;\">\n",
       "      <th></th>\n",
       "      <th>SPX</th>\n",
       "      <th>USO</th>\n",
       "      <th>SLV</th>\n",
       "      <th>EUR/USD</th>\n",
       "      <th>Month</th>\n",
       "      <th>Year</th>\n",
       "    </tr>\n",
       "  </thead>\n",
       "  <tbody>\n",
       "    <tr>\n",
       "      <th>486</th>\n",
       "      <td>1165.810059</td>\n",
       "      <td>39.560001</td>\n",
       "      <td>16.600000</td>\n",
       "      <td>1.356705</td>\n",
       "      <td>3</td>\n",
       "      <td>2010</td>\n",
       "    </tr>\n",
       "    <tr>\n",
       "      <th>31</th>\n",
       "      <td>1349.989990</td>\n",
       "      <td>75.930000</td>\n",
       "      <td>16.952000</td>\n",
       "      <td>1.467610</td>\n",
       "      <td>2</td>\n",
       "      <td>2008</td>\n",
       "    </tr>\n",
       "    <tr>\n",
       "      <th>1754</th>\n",
       "      <td>2041.890015</td>\n",
       "      <td>10.740000</td>\n",
       "      <td>13.080000</td>\n",
       "      <td>1.087453</td>\n",
       "      <td>12</td>\n",
       "      <td>2015</td>\n",
       "    </tr>\n",
       "    <tr>\n",
       "      <th>1490</th>\n",
       "      <td>1862.760010</td>\n",
       "      <td>31.100000</td>\n",
       "      <td>16.670000</td>\n",
       "      <td>1.280442</td>\n",
       "      <td>10</td>\n",
       "      <td>2014</td>\n",
       "    </tr>\n",
       "    <tr>\n",
       "      <th>1526</th>\n",
       "      <td>2026.140015</td>\n",
       "      <td>23.280001</td>\n",
       "      <td>16.370001</td>\n",
       "      <td>1.239495</td>\n",
       "      <td>12</td>\n",
       "      <td>2014</td>\n",
       "    </tr>\n",
       "  </tbody>\n",
       "</table>\n",
       "</div>"
      ],
      "text/plain": [
       "              SPX        USO        SLV   EUR/USD  Month  Year\n",
       "486   1165.810059  39.560001  16.600000  1.356705      3  2010\n",
       "31    1349.989990  75.930000  16.952000  1.467610      2  2008\n",
       "1754  2041.890015  10.740000  13.080000  1.087453     12  2015\n",
       "1490  1862.760010  31.100000  16.670000  1.280442     10  2014\n",
       "1526  2026.140015  23.280001  16.370001  1.239495     12  2014"
      ]
     },
     "execution_count": 50,
     "metadata": {},
     "output_type": "execute_result"
    }
   ],
   "source": [
    "X_train.head()"
   ]
  },
  {
   "cell_type": "code",
   "execution_count": 51,
   "id": "59089548",
   "metadata": {},
   "outputs": [],
   "source": [
    "numeric_feature = X_train.select_dtypes('number').columns\n",
    "categorical_features = X_train.select_dtypes('object').columns"
   ]
  },
  {
   "cell_type": "code",
   "execution_count": 52,
   "id": "91c02ff4",
   "metadata": {},
   "outputs": [],
   "source": [
    "numeric_transformer = make_pipeline(SimpleImputer(strategy = 'median'), StandardScaler())\n",
    "categorical_transformer = make_pipeline(SimpleImputer(strategy = 'constant', fill_value = \"missing\"), OneHotEncoder())"
   ]
  },
  {
   "cell_type": "code",
   "execution_count": 53,
   "id": "fd6eb2c5",
   "metadata": {},
   "outputs": [],
   "source": [
    "col_transformer = make_column_transformer(\n",
    "  (numeric_transformer, numeric_feature), \n",
    "    (categorical_transformer, categorical_features),\n",
    "remainder = 'passthrough')"
   ]
  },
  {
   "cell_type": "code",
   "execution_count": 54,
   "id": "3d934283",
   "metadata": {},
   "outputs": [
    {
     "data": {
      "text/html": [
       "<style>#sk-78dd48c6-0757-4cd6-99ba-bbf2550acabe {color: black;background-color: white;}#sk-78dd48c6-0757-4cd6-99ba-bbf2550acabe pre{padding: 0;}#sk-78dd48c6-0757-4cd6-99ba-bbf2550acabe div.sk-toggleable {background-color: white;}#sk-78dd48c6-0757-4cd6-99ba-bbf2550acabe label.sk-toggleable__label {cursor: pointer;display: block;width: 100%;margin-bottom: 0;padding: 0.3em;box-sizing: border-box;text-align: center;}#sk-78dd48c6-0757-4cd6-99ba-bbf2550acabe label.sk-toggleable__label-arrow:before {content: \"▸\";float: left;margin-right: 0.25em;color: #696969;}#sk-78dd48c6-0757-4cd6-99ba-bbf2550acabe label.sk-toggleable__label-arrow:hover:before {color: black;}#sk-78dd48c6-0757-4cd6-99ba-bbf2550acabe div.sk-estimator:hover label.sk-toggleable__label-arrow:before {color: black;}#sk-78dd48c6-0757-4cd6-99ba-bbf2550acabe div.sk-toggleable__content {max-height: 0;max-width: 0;overflow: hidden;text-align: left;background-color: #f0f8ff;}#sk-78dd48c6-0757-4cd6-99ba-bbf2550acabe div.sk-toggleable__content pre {margin: 0.2em;color: black;border-radius: 0.25em;background-color: #f0f8ff;}#sk-78dd48c6-0757-4cd6-99ba-bbf2550acabe input.sk-toggleable__control:checked~div.sk-toggleable__content {max-height: 200px;max-width: 100%;overflow: auto;}#sk-78dd48c6-0757-4cd6-99ba-bbf2550acabe input.sk-toggleable__control:checked~label.sk-toggleable__label-arrow:before {content: \"▾\";}#sk-78dd48c6-0757-4cd6-99ba-bbf2550acabe div.sk-estimator input.sk-toggleable__control:checked~label.sk-toggleable__label {background-color: #d4ebff;}#sk-78dd48c6-0757-4cd6-99ba-bbf2550acabe div.sk-label input.sk-toggleable__control:checked~label.sk-toggleable__label {background-color: #d4ebff;}#sk-78dd48c6-0757-4cd6-99ba-bbf2550acabe input.sk-hidden--visually {border: 0;clip: rect(1px 1px 1px 1px);clip: rect(1px, 1px, 1px, 1px);height: 1px;margin: -1px;overflow: hidden;padding: 0;position: absolute;width: 1px;}#sk-78dd48c6-0757-4cd6-99ba-bbf2550acabe div.sk-estimator {font-family: monospace;background-color: #f0f8ff;border: 1px dotted black;border-radius: 0.25em;box-sizing: border-box;margin-bottom: 0.5em;}#sk-78dd48c6-0757-4cd6-99ba-bbf2550acabe div.sk-estimator:hover {background-color: #d4ebff;}#sk-78dd48c6-0757-4cd6-99ba-bbf2550acabe div.sk-parallel-item::after {content: \"\";width: 100%;border-bottom: 1px solid gray;flex-grow: 1;}#sk-78dd48c6-0757-4cd6-99ba-bbf2550acabe div.sk-label:hover label.sk-toggleable__label {background-color: #d4ebff;}#sk-78dd48c6-0757-4cd6-99ba-bbf2550acabe div.sk-serial::before {content: \"\";position: absolute;border-left: 1px solid gray;box-sizing: border-box;top: 2em;bottom: 0;left: 50%;}#sk-78dd48c6-0757-4cd6-99ba-bbf2550acabe div.sk-serial {display: flex;flex-direction: column;align-items: center;background-color: white;padding-right: 0.2em;padding-left: 0.2em;}#sk-78dd48c6-0757-4cd6-99ba-bbf2550acabe div.sk-item {z-index: 1;}#sk-78dd48c6-0757-4cd6-99ba-bbf2550acabe div.sk-parallel {display: flex;align-items: stretch;justify-content: center;background-color: white;}#sk-78dd48c6-0757-4cd6-99ba-bbf2550acabe div.sk-parallel::before {content: \"\";position: absolute;border-left: 1px solid gray;box-sizing: border-box;top: 2em;bottom: 0;left: 50%;}#sk-78dd48c6-0757-4cd6-99ba-bbf2550acabe div.sk-parallel-item {display: flex;flex-direction: column;position: relative;background-color: white;}#sk-78dd48c6-0757-4cd6-99ba-bbf2550acabe div.sk-parallel-item:first-child::after {align-self: flex-end;width: 50%;}#sk-78dd48c6-0757-4cd6-99ba-bbf2550acabe div.sk-parallel-item:last-child::after {align-self: flex-start;width: 50%;}#sk-78dd48c6-0757-4cd6-99ba-bbf2550acabe div.sk-parallel-item:only-child::after {width: 0;}#sk-78dd48c6-0757-4cd6-99ba-bbf2550acabe div.sk-dashed-wrapped {border: 1px dashed gray;margin: 0 0.4em 0.5em 0.4em;box-sizing: border-box;padding-bottom: 0.4em;background-color: white;position: relative;}#sk-78dd48c6-0757-4cd6-99ba-bbf2550acabe div.sk-label label {font-family: monospace;font-weight: bold;background-color: white;display: inline-block;line-height: 1.2em;}#sk-78dd48c6-0757-4cd6-99ba-bbf2550acabe div.sk-label-container {position: relative;z-index: 2;text-align: center;}#sk-78dd48c6-0757-4cd6-99ba-bbf2550acabe div.sk-container {/* jupyter's `normalize.less` sets `[hidden] { display: none; }` but bootstrap.min.css set `[hidden] { display: none !important; }` so we also need the `!important` here to be able to override the default hidden behavior on the sphinx rendered scikit-learn.org. See: https://github.com/scikit-learn/scikit-learn/issues/21755 */display: inline-block !important;position: relative;}#sk-78dd48c6-0757-4cd6-99ba-bbf2550acabe div.sk-text-repr-fallback {display: none;}</style><div id=\"sk-78dd48c6-0757-4cd6-99ba-bbf2550acabe\" class=\"sk-top-container\"><div class=\"sk-text-repr-fallback\"><pre>ColumnTransformer(remainder=&#x27;passthrough&#x27;,\n",
       "                  transformers=[(&#x27;pipeline-1&#x27;,\n",
       "                                 Pipeline(steps=[(&#x27;simpleimputer&#x27;,\n",
       "                                                  SimpleImputer(strategy=&#x27;median&#x27;)),\n",
       "                                                 (&#x27;standardscaler&#x27;,\n",
       "                                                  StandardScaler())]),\n",
       "                                 Index([&#x27;SPX&#x27;, &#x27;USO&#x27;, &#x27;SLV&#x27;, &#x27;EUR/USD&#x27;, &#x27;Month&#x27;, &#x27;Year&#x27;], dtype=&#x27;object&#x27;)),\n",
       "                                (&#x27;pipeline-2&#x27;,\n",
       "                                 Pipeline(steps=[(&#x27;simpleimputer&#x27;,\n",
       "                                                  SimpleImputer(fill_value=&#x27;missing&#x27;,\n",
       "                                                                strategy=&#x27;constant&#x27;)),\n",
       "                                                 (&#x27;onehotencoder&#x27;,\n",
       "                                                  OneHotEncoder())]),\n",
       "                                 Index([], dtype=&#x27;object&#x27;))])</pre><b>Please rerun this cell to show the HTML repr or trust the notebook.</b></div><div class=\"sk-container\" hidden><div class=\"sk-item sk-dashed-wrapped\"><div class=\"sk-label-container\"><div class=\"sk-label sk-toggleable\"><input class=\"sk-toggleable__control sk-hidden--visually\" id=\"d7da17a3-8334-4292-900b-9d8e62a4fdcf\" type=\"checkbox\" ><label for=\"d7da17a3-8334-4292-900b-9d8e62a4fdcf\" class=\"sk-toggleable__label sk-toggleable__label-arrow\">ColumnTransformer</label><div class=\"sk-toggleable__content\"><pre>ColumnTransformer(remainder=&#x27;passthrough&#x27;,\n",
       "                  transformers=[(&#x27;pipeline-1&#x27;,\n",
       "                                 Pipeline(steps=[(&#x27;simpleimputer&#x27;,\n",
       "                                                  SimpleImputer(strategy=&#x27;median&#x27;)),\n",
       "                                                 (&#x27;standardscaler&#x27;,\n",
       "                                                  StandardScaler())]),\n",
       "                                 Index([&#x27;SPX&#x27;, &#x27;USO&#x27;, &#x27;SLV&#x27;, &#x27;EUR/USD&#x27;, &#x27;Month&#x27;, &#x27;Year&#x27;], dtype=&#x27;object&#x27;)),\n",
       "                                (&#x27;pipeline-2&#x27;,\n",
       "                                 Pipeline(steps=[(&#x27;simpleimputer&#x27;,\n",
       "                                                  SimpleImputer(fill_value=&#x27;missing&#x27;,\n",
       "                                                                strategy=&#x27;constant&#x27;)),\n",
       "                                                 (&#x27;onehotencoder&#x27;,\n",
       "                                                  OneHotEncoder())]),\n",
       "                                 Index([], dtype=&#x27;object&#x27;))])</pre></div></div></div><div class=\"sk-parallel\"><div class=\"sk-parallel-item\"><div class=\"sk-item\"><div class=\"sk-label-container\"><div class=\"sk-label sk-toggleable\"><input class=\"sk-toggleable__control sk-hidden--visually\" id=\"6f57045d-71b0-4edd-8bcb-c902053f700a\" type=\"checkbox\" ><label for=\"6f57045d-71b0-4edd-8bcb-c902053f700a\" class=\"sk-toggleable__label sk-toggleable__label-arrow\">pipeline-1</label><div class=\"sk-toggleable__content\"><pre>Index([&#x27;SPX&#x27;, &#x27;USO&#x27;, &#x27;SLV&#x27;, &#x27;EUR/USD&#x27;, &#x27;Month&#x27;, &#x27;Year&#x27;], dtype=&#x27;object&#x27;)</pre></div></div></div><div class=\"sk-serial\"><div class=\"sk-item\"><div class=\"sk-serial\"><div class=\"sk-item\"><div class=\"sk-estimator sk-toggleable\"><input class=\"sk-toggleable__control sk-hidden--visually\" id=\"e6ebc211-39d6-4b45-af6c-5e981d809316\" type=\"checkbox\" ><label for=\"e6ebc211-39d6-4b45-af6c-5e981d809316\" class=\"sk-toggleable__label sk-toggleable__label-arrow\">SimpleImputer</label><div class=\"sk-toggleable__content\"><pre>SimpleImputer(strategy=&#x27;median&#x27;)</pre></div></div></div><div class=\"sk-item\"><div class=\"sk-estimator sk-toggleable\"><input class=\"sk-toggleable__control sk-hidden--visually\" id=\"e6733937-6c1b-40d6-ba99-2f2831291bbd\" type=\"checkbox\" ><label for=\"e6733937-6c1b-40d6-ba99-2f2831291bbd\" class=\"sk-toggleable__label sk-toggleable__label-arrow\">StandardScaler</label><div class=\"sk-toggleable__content\"><pre>StandardScaler()</pre></div></div></div></div></div></div></div></div><div class=\"sk-parallel-item\"><div class=\"sk-item\"><div class=\"sk-label-container\"><div class=\"sk-label sk-toggleable\"><input class=\"sk-toggleable__control sk-hidden--visually\" id=\"e6dff10e-b51f-44ad-8e8f-eb2c691cc31e\" type=\"checkbox\" ><label for=\"e6dff10e-b51f-44ad-8e8f-eb2c691cc31e\" class=\"sk-toggleable__label sk-toggleable__label-arrow\">pipeline-2</label><div class=\"sk-toggleable__content\"><pre>Index([], dtype=&#x27;object&#x27;)</pre></div></div></div><div class=\"sk-serial\"><div class=\"sk-item\"><div class=\"sk-serial\"><div class=\"sk-item\"><div class=\"sk-estimator sk-toggleable\"><input class=\"sk-toggleable__control sk-hidden--visually\" id=\"3915ca9f-95d4-47dc-b816-14a69d3ea8a5\" type=\"checkbox\" ><label for=\"3915ca9f-95d4-47dc-b816-14a69d3ea8a5\" class=\"sk-toggleable__label sk-toggleable__label-arrow\">SimpleImputer</label><div class=\"sk-toggleable__content\"><pre>SimpleImputer(fill_value=&#x27;missing&#x27;, strategy=&#x27;constant&#x27;)</pre></div></div></div><div class=\"sk-item\"><div class=\"sk-estimator sk-toggleable\"><input class=\"sk-toggleable__control sk-hidden--visually\" id=\"a093c035-2ef5-49bf-98db-f2f0de88f912\" type=\"checkbox\" ><label for=\"a093c035-2ef5-49bf-98db-f2f0de88f912\" class=\"sk-toggleable__label sk-toggleable__label-arrow\">OneHotEncoder</label><div class=\"sk-toggleable__content\"><pre>OneHotEncoder()</pre></div></div></div></div></div></div></div></div><div class=\"sk-parallel-item\"><div class=\"sk-item\"><div class=\"sk-label-container\"><div class=\"sk-label sk-toggleable\"><input class=\"sk-toggleable__control sk-hidden--visually\" id=\"3b7f482f-7fcf-4e07-8e58-5a2d3f008d85\" type=\"checkbox\" ><label for=\"3b7f482f-7fcf-4e07-8e58-5a2d3f008d85\" class=\"sk-toggleable__label sk-toggleable__label-arrow\">remainder</label><div class=\"sk-toggleable__content\"><pre>[]</pre></div></div></div><div class=\"sk-serial\"><div class=\"sk-item\"><div class=\"sk-estimator sk-toggleable\"><input class=\"sk-toggleable__control sk-hidden--visually\" id=\"bf1ac1a5-5995-4395-8868-82aa3d3cd883\" type=\"checkbox\" ><label for=\"bf1ac1a5-5995-4395-8868-82aa3d3cd883\" class=\"sk-toggleable__label sk-toggleable__label-arrow\">passthrough</label><div class=\"sk-toggleable__content\"><pre>passthrough</pre></div></div></div></div></div></div></div></div></div></div>"
      ],
      "text/plain": [
       "ColumnTransformer(remainder='passthrough',\n",
       "                  transformers=[('pipeline-1',\n",
       "                                 Pipeline(steps=[('simpleimputer',\n",
       "                                                  SimpleImputer(strategy='median')),\n",
       "                                                 ('standardscaler',\n",
       "                                                  StandardScaler())]),\n",
       "                                 Index(['SPX', 'USO', 'SLV', 'EUR/USD', 'Month', 'Year'], dtype='object')),\n",
       "                                ('pipeline-2',\n",
       "                                 Pipeline(steps=[('simpleimputer',\n",
       "                                                  SimpleImputer(fill_value='missing',\n",
       "                                                                strategy='constant')),\n",
       "                                                 ('onehotencoder',\n",
       "                                                  OneHotEncoder())]),\n",
       "                                 Index([], dtype='object'))])"
      ]
     },
     "execution_count": 54,
     "metadata": {},
     "output_type": "execute_result"
    }
   ],
   "source": [
    "col_transformer.fit(X_train)"
   ]
  },
  {
   "cell_type": "code",
   "execution_count": 55,
   "id": "2d830ca5",
   "metadata": {},
   "outputs": [],
   "source": [
    "pipe = make_pipeline(col_transformer, DecisionTreeRegressor())"
   ]
  },
  {
   "cell_type": "code",
   "execution_count": 56,
   "id": "f97129fb",
   "metadata": {},
   "outputs": [
    {
     "data": {
      "text/html": [
       "<style>#sk-a4b1a754-c355-4d18-b462-2f4bb3b7e701 {color: black;background-color: white;}#sk-a4b1a754-c355-4d18-b462-2f4bb3b7e701 pre{padding: 0;}#sk-a4b1a754-c355-4d18-b462-2f4bb3b7e701 div.sk-toggleable {background-color: white;}#sk-a4b1a754-c355-4d18-b462-2f4bb3b7e701 label.sk-toggleable__label {cursor: pointer;display: block;width: 100%;margin-bottom: 0;padding: 0.3em;box-sizing: border-box;text-align: center;}#sk-a4b1a754-c355-4d18-b462-2f4bb3b7e701 label.sk-toggleable__label-arrow:before {content: \"▸\";float: left;margin-right: 0.25em;color: #696969;}#sk-a4b1a754-c355-4d18-b462-2f4bb3b7e701 label.sk-toggleable__label-arrow:hover:before {color: black;}#sk-a4b1a754-c355-4d18-b462-2f4bb3b7e701 div.sk-estimator:hover label.sk-toggleable__label-arrow:before {color: black;}#sk-a4b1a754-c355-4d18-b462-2f4bb3b7e701 div.sk-toggleable__content {max-height: 0;max-width: 0;overflow: hidden;text-align: left;background-color: #f0f8ff;}#sk-a4b1a754-c355-4d18-b462-2f4bb3b7e701 div.sk-toggleable__content pre {margin: 0.2em;color: black;border-radius: 0.25em;background-color: #f0f8ff;}#sk-a4b1a754-c355-4d18-b462-2f4bb3b7e701 input.sk-toggleable__control:checked~div.sk-toggleable__content {max-height: 200px;max-width: 100%;overflow: auto;}#sk-a4b1a754-c355-4d18-b462-2f4bb3b7e701 input.sk-toggleable__control:checked~label.sk-toggleable__label-arrow:before {content: \"▾\";}#sk-a4b1a754-c355-4d18-b462-2f4bb3b7e701 div.sk-estimator input.sk-toggleable__control:checked~label.sk-toggleable__label {background-color: #d4ebff;}#sk-a4b1a754-c355-4d18-b462-2f4bb3b7e701 div.sk-label input.sk-toggleable__control:checked~label.sk-toggleable__label {background-color: #d4ebff;}#sk-a4b1a754-c355-4d18-b462-2f4bb3b7e701 input.sk-hidden--visually {border: 0;clip: rect(1px 1px 1px 1px);clip: rect(1px, 1px, 1px, 1px);height: 1px;margin: -1px;overflow: hidden;padding: 0;position: absolute;width: 1px;}#sk-a4b1a754-c355-4d18-b462-2f4bb3b7e701 div.sk-estimator {font-family: monospace;background-color: #f0f8ff;border: 1px dotted black;border-radius: 0.25em;box-sizing: border-box;margin-bottom: 0.5em;}#sk-a4b1a754-c355-4d18-b462-2f4bb3b7e701 div.sk-estimator:hover {background-color: #d4ebff;}#sk-a4b1a754-c355-4d18-b462-2f4bb3b7e701 div.sk-parallel-item::after {content: \"\";width: 100%;border-bottom: 1px solid gray;flex-grow: 1;}#sk-a4b1a754-c355-4d18-b462-2f4bb3b7e701 div.sk-label:hover label.sk-toggleable__label {background-color: #d4ebff;}#sk-a4b1a754-c355-4d18-b462-2f4bb3b7e701 div.sk-serial::before {content: \"\";position: absolute;border-left: 1px solid gray;box-sizing: border-box;top: 2em;bottom: 0;left: 50%;}#sk-a4b1a754-c355-4d18-b462-2f4bb3b7e701 div.sk-serial {display: flex;flex-direction: column;align-items: center;background-color: white;padding-right: 0.2em;padding-left: 0.2em;}#sk-a4b1a754-c355-4d18-b462-2f4bb3b7e701 div.sk-item {z-index: 1;}#sk-a4b1a754-c355-4d18-b462-2f4bb3b7e701 div.sk-parallel {display: flex;align-items: stretch;justify-content: center;background-color: white;}#sk-a4b1a754-c355-4d18-b462-2f4bb3b7e701 div.sk-parallel::before {content: \"\";position: absolute;border-left: 1px solid gray;box-sizing: border-box;top: 2em;bottom: 0;left: 50%;}#sk-a4b1a754-c355-4d18-b462-2f4bb3b7e701 div.sk-parallel-item {display: flex;flex-direction: column;position: relative;background-color: white;}#sk-a4b1a754-c355-4d18-b462-2f4bb3b7e701 div.sk-parallel-item:first-child::after {align-self: flex-end;width: 50%;}#sk-a4b1a754-c355-4d18-b462-2f4bb3b7e701 div.sk-parallel-item:last-child::after {align-self: flex-start;width: 50%;}#sk-a4b1a754-c355-4d18-b462-2f4bb3b7e701 div.sk-parallel-item:only-child::after {width: 0;}#sk-a4b1a754-c355-4d18-b462-2f4bb3b7e701 div.sk-dashed-wrapped {border: 1px dashed gray;margin: 0 0.4em 0.5em 0.4em;box-sizing: border-box;padding-bottom: 0.4em;background-color: white;position: relative;}#sk-a4b1a754-c355-4d18-b462-2f4bb3b7e701 div.sk-label label {font-family: monospace;font-weight: bold;background-color: white;display: inline-block;line-height: 1.2em;}#sk-a4b1a754-c355-4d18-b462-2f4bb3b7e701 div.sk-label-container {position: relative;z-index: 2;text-align: center;}#sk-a4b1a754-c355-4d18-b462-2f4bb3b7e701 div.sk-container {/* jupyter's `normalize.less` sets `[hidden] { display: none; }` but bootstrap.min.css set `[hidden] { display: none !important; }` so we also need the `!important` here to be able to override the default hidden behavior on the sphinx rendered scikit-learn.org. See: https://github.com/scikit-learn/scikit-learn/issues/21755 */display: inline-block !important;position: relative;}#sk-a4b1a754-c355-4d18-b462-2f4bb3b7e701 div.sk-text-repr-fallback {display: none;}</style><div id=\"sk-a4b1a754-c355-4d18-b462-2f4bb3b7e701\" class=\"sk-top-container\"><div class=\"sk-text-repr-fallback\"><pre>Pipeline(steps=[(&#x27;columntransformer&#x27;,\n",
       "                 ColumnTransformer(remainder=&#x27;passthrough&#x27;,\n",
       "                                   transformers=[(&#x27;pipeline-1&#x27;,\n",
       "                                                  Pipeline(steps=[(&#x27;simpleimputer&#x27;,\n",
       "                                                                   SimpleImputer(strategy=&#x27;median&#x27;)),\n",
       "                                                                  (&#x27;standardscaler&#x27;,\n",
       "                                                                   StandardScaler())]),\n",
       "                                                  Index([&#x27;SPX&#x27;, &#x27;USO&#x27;, &#x27;SLV&#x27;, &#x27;EUR/USD&#x27;, &#x27;Month&#x27;, &#x27;Year&#x27;], dtype=&#x27;object&#x27;)),\n",
       "                                                 (&#x27;pipeline-2&#x27;,\n",
       "                                                  Pipeline(steps=[(&#x27;simpleimputer&#x27;,\n",
       "                                                                   SimpleImputer(fill_value=&#x27;missing&#x27;,\n",
       "                                                                                 strategy=&#x27;constant&#x27;)),\n",
       "                                                                  (&#x27;onehotencoder&#x27;,\n",
       "                                                                   OneHotEncoder())]),\n",
       "                                                  Index([], dtype=&#x27;object&#x27;))])),\n",
       "                (&#x27;decisiontreeregressor&#x27;, DecisionTreeRegressor())])</pre><b>Please rerun this cell to show the HTML repr or trust the notebook.</b></div><div class=\"sk-container\" hidden><div class=\"sk-item sk-dashed-wrapped\"><div class=\"sk-label-container\"><div class=\"sk-label sk-toggleable\"><input class=\"sk-toggleable__control sk-hidden--visually\" id=\"436ab465-e7ac-4307-b7ba-3e29805b3fc9\" type=\"checkbox\" ><label for=\"436ab465-e7ac-4307-b7ba-3e29805b3fc9\" class=\"sk-toggleable__label sk-toggleable__label-arrow\">Pipeline</label><div class=\"sk-toggleable__content\"><pre>Pipeline(steps=[(&#x27;columntransformer&#x27;,\n",
       "                 ColumnTransformer(remainder=&#x27;passthrough&#x27;,\n",
       "                                   transformers=[(&#x27;pipeline-1&#x27;,\n",
       "                                                  Pipeline(steps=[(&#x27;simpleimputer&#x27;,\n",
       "                                                                   SimpleImputer(strategy=&#x27;median&#x27;)),\n",
       "                                                                  (&#x27;standardscaler&#x27;,\n",
       "                                                                   StandardScaler())]),\n",
       "                                                  Index([&#x27;SPX&#x27;, &#x27;USO&#x27;, &#x27;SLV&#x27;, &#x27;EUR/USD&#x27;, &#x27;Month&#x27;, &#x27;Year&#x27;], dtype=&#x27;object&#x27;)),\n",
       "                                                 (&#x27;pipeline-2&#x27;,\n",
       "                                                  Pipeline(steps=[(&#x27;simpleimputer&#x27;,\n",
       "                                                                   SimpleImputer(fill_value=&#x27;missing&#x27;,\n",
       "                                                                                 strategy=&#x27;constant&#x27;)),\n",
       "                                                                  (&#x27;onehotencoder&#x27;,\n",
       "                                                                   OneHotEncoder())]),\n",
       "                                                  Index([], dtype=&#x27;object&#x27;))])),\n",
       "                (&#x27;decisiontreeregressor&#x27;, DecisionTreeRegressor())])</pre></div></div></div><div class=\"sk-serial\"><div class=\"sk-item sk-dashed-wrapped\"><div class=\"sk-label-container\"><div class=\"sk-label sk-toggleable\"><input class=\"sk-toggleable__control sk-hidden--visually\" id=\"9b20e173-8191-4a9e-8cbc-31f75cfa7d4b\" type=\"checkbox\" ><label for=\"9b20e173-8191-4a9e-8cbc-31f75cfa7d4b\" class=\"sk-toggleable__label sk-toggleable__label-arrow\">columntransformer: ColumnTransformer</label><div class=\"sk-toggleable__content\"><pre>ColumnTransformer(remainder=&#x27;passthrough&#x27;,\n",
       "                  transformers=[(&#x27;pipeline-1&#x27;,\n",
       "                                 Pipeline(steps=[(&#x27;simpleimputer&#x27;,\n",
       "                                                  SimpleImputer(strategy=&#x27;median&#x27;)),\n",
       "                                                 (&#x27;standardscaler&#x27;,\n",
       "                                                  StandardScaler())]),\n",
       "                                 Index([&#x27;SPX&#x27;, &#x27;USO&#x27;, &#x27;SLV&#x27;, &#x27;EUR/USD&#x27;, &#x27;Month&#x27;, &#x27;Year&#x27;], dtype=&#x27;object&#x27;)),\n",
       "                                (&#x27;pipeline-2&#x27;,\n",
       "                                 Pipeline(steps=[(&#x27;simpleimputer&#x27;,\n",
       "                                                  SimpleImputer(fill_value=&#x27;missing&#x27;,\n",
       "                                                                strategy=&#x27;constant&#x27;)),\n",
       "                                                 (&#x27;onehotencoder&#x27;,\n",
       "                                                  OneHotEncoder())]),\n",
       "                                 Index([], dtype=&#x27;object&#x27;))])</pre></div></div></div><div class=\"sk-parallel\"><div class=\"sk-parallel-item\"><div class=\"sk-item\"><div class=\"sk-label-container\"><div class=\"sk-label sk-toggleable\"><input class=\"sk-toggleable__control sk-hidden--visually\" id=\"a33a9b19-b98e-4678-a035-21244f7364f7\" type=\"checkbox\" ><label for=\"a33a9b19-b98e-4678-a035-21244f7364f7\" class=\"sk-toggleable__label sk-toggleable__label-arrow\">pipeline-1</label><div class=\"sk-toggleable__content\"><pre>Index([&#x27;SPX&#x27;, &#x27;USO&#x27;, &#x27;SLV&#x27;, &#x27;EUR/USD&#x27;, &#x27;Month&#x27;, &#x27;Year&#x27;], dtype=&#x27;object&#x27;)</pre></div></div></div><div class=\"sk-serial\"><div class=\"sk-item\"><div class=\"sk-serial\"><div class=\"sk-item\"><div class=\"sk-estimator sk-toggleable\"><input class=\"sk-toggleable__control sk-hidden--visually\" id=\"67aacdc0-f37f-47c0-ad55-ff22c3cca6dd\" type=\"checkbox\" ><label for=\"67aacdc0-f37f-47c0-ad55-ff22c3cca6dd\" class=\"sk-toggleable__label sk-toggleable__label-arrow\">SimpleImputer</label><div class=\"sk-toggleable__content\"><pre>SimpleImputer(strategy=&#x27;median&#x27;)</pre></div></div></div><div class=\"sk-item\"><div class=\"sk-estimator sk-toggleable\"><input class=\"sk-toggleable__control sk-hidden--visually\" id=\"f5b0551b-0b07-482d-812e-a44e19f101c4\" type=\"checkbox\" ><label for=\"f5b0551b-0b07-482d-812e-a44e19f101c4\" class=\"sk-toggleable__label sk-toggleable__label-arrow\">StandardScaler</label><div class=\"sk-toggleable__content\"><pre>StandardScaler()</pre></div></div></div></div></div></div></div></div><div class=\"sk-parallel-item\"><div class=\"sk-item\"><div class=\"sk-label-container\"><div class=\"sk-label sk-toggleable\"><input class=\"sk-toggleable__control sk-hidden--visually\" id=\"f0178699-3f06-4dd3-a1d3-3520730b3bc6\" type=\"checkbox\" ><label for=\"f0178699-3f06-4dd3-a1d3-3520730b3bc6\" class=\"sk-toggleable__label sk-toggleable__label-arrow\">pipeline-2</label><div class=\"sk-toggleable__content\"><pre>Index([], dtype=&#x27;object&#x27;)</pre></div></div></div><div class=\"sk-serial\"><div class=\"sk-item\"><div class=\"sk-serial\"><div class=\"sk-item\"><div class=\"sk-estimator sk-toggleable\"><input class=\"sk-toggleable__control sk-hidden--visually\" id=\"aba6eeb0-8b6c-4927-83e0-7084b06e7a64\" type=\"checkbox\" ><label for=\"aba6eeb0-8b6c-4927-83e0-7084b06e7a64\" class=\"sk-toggleable__label sk-toggleable__label-arrow\">SimpleImputer</label><div class=\"sk-toggleable__content\"><pre>SimpleImputer(fill_value=&#x27;missing&#x27;, strategy=&#x27;constant&#x27;)</pre></div></div></div><div class=\"sk-item\"><div class=\"sk-estimator sk-toggleable\"><input class=\"sk-toggleable__control sk-hidden--visually\" id=\"87c5e157-b2ca-4cb4-9dac-bcef3b67db59\" type=\"checkbox\" ><label for=\"87c5e157-b2ca-4cb4-9dac-bcef3b67db59\" class=\"sk-toggleable__label sk-toggleable__label-arrow\">OneHotEncoder</label><div class=\"sk-toggleable__content\"><pre>OneHotEncoder()</pre></div></div></div></div></div></div></div></div><div class=\"sk-parallel-item\"><div class=\"sk-item\"><div class=\"sk-label-container\"><div class=\"sk-label sk-toggleable\"><input class=\"sk-toggleable__control sk-hidden--visually\" id=\"dc3bc9a3-283e-486d-a9b6-d78dc712f544\" type=\"checkbox\" ><label for=\"dc3bc9a3-283e-486d-a9b6-d78dc712f544\" class=\"sk-toggleable__label sk-toggleable__label-arrow\">remainder</label><div class=\"sk-toggleable__content\"><pre>[]</pre></div></div></div><div class=\"sk-serial\"><div class=\"sk-item\"><div class=\"sk-estimator sk-toggleable\"><input class=\"sk-toggleable__control sk-hidden--visually\" id=\"8fe23396-f298-445c-9a66-e8d50d9dae79\" type=\"checkbox\" ><label for=\"8fe23396-f298-445c-9a66-e8d50d9dae79\" class=\"sk-toggleable__label sk-toggleable__label-arrow\">passthrough</label><div class=\"sk-toggleable__content\"><pre>passthrough</pre></div></div></div></div></div></div></div></div><div class=\"sk-item\"><div class=\"sk-estimator sk-toggleable\"><input class=\"sk-toggleable__control sk-hidden--visually\" id=\"68205a8a-a0a5-4333-a849-c777188cc022\" type=\"checkbox\" ><label for=\"68205a8a-a0a5-4333-a849-c777188cc022\" class=\"sk-toggleable__label sk-toggleable__label-arrow\">DecisionTreeRegressor</label><div class=\"sk-toggleable__content\"><pre>DecisionTreeRegressor()</pre></div></div></div></div></div></div></div>"
      ],
      "text/plain": [
       "Pipeline(steps=[('columntransformer',\n",
       "                 ColumnTransformer(remainder='passthrough',\n",
       "                                   transformers=[('pipeline-1',\n",
       "                                                  Pipeline(steps=[('simpleimputer',\n",
       "                                                                   SimpleImputer(strategy='median')),\n",
       "                                                                  ('standardscaler',\n",
       "                                                                   StandardScaler())]),\n",
       "                                                  Index(['SPX', 'USO', 'SLV', 'EUR/USD', 'Month', 'Year'], dtype='object')),\n",
       "                                                 ('pipeline-2',\n",
       "                                                  Pipeline(steps=[('simpleimputer',\n",
       "                                                                   SimpleImputer(fill_value='missing',\n",
       "                                                                                 strategy='constant')),\n",
       "                                                                  ('onehotencoder',\n",
       "                                                                   OneHotEncoder())]),\n",
       "                                                  Index([], dtype='object'))])),\n",
       "                ('decisiontreeregressor', DecisionTreeRegressor())])"
      ]
     },
     "execution_count": 56,
     "metadata": {},
     "output_type": "execute_result"
    }
   ],
   "source": [
    "pipe.fit(X_train, y_train)"
   ]
  },
  {
   "cell_type": "code",
   "execution_count": 57,
   "id": "1dba297a",
   "metadata": {},
   "outputs": [],
   "source": [
    "from sklearn.model_selection import cross_validate\n",
    "with_categorical_score = cross_validate(pipe, X_train, y_train, return_train_score = True)"
   ]
  },
  {
   "cell_type": "code",
   "execution_count": 58,
   "id": "3a484f48",
   "metadata": {},
   "outputs": [
    {
     "data": {
      "text/html": [
       "<div>\n",
       "<style scoped>\n",
       "    .dataframe tbody tr th:only-of-type {\n",
       "        vertical-align: middle;\n",
       "    }\n",
       "\n",
       "    .dataframe tbody tr th {\n",
       "        vertical-align: top;\n",
       "    }\n",
       "\n",
       "    .dataframe thead th {\n",
       "        text-align: right;\n",
       "    }\n",
       "</style>\n",
       "<table border=\"1\" class=\"dataframe\">\n",
       "  <thead>\n",
       "    <tr style=\"text-align: right;\">\n",
       "      <th></th>\n",
       "      <th>fit_time</th>\n",
       "      <th>score_time</th>\n",
       "      <th>test_score</th>\n",
       "      <th>train_score</th>\n",
       "    </tr>\n",
       "  </thead>\n",
       "  <tbody>\n",
       "    <tr>\n",
       "      <th>0</th>\n",
       "      <td>0.013843</td>\n",
       "      <td>0.014057</td>\n",
       "      <td>0.987641</td>\n",
       "      <td>1.0</td>\n",
       "    </tr>\n",
       "    <tr>\n",
       "      <th>1</th>\n",
       "      <td>0.017448</td>\n",
       "      <td>0.003998</td>\n",
       "      <td>0.992729</td>\n",
       "      <td>1.0</td>\n",
       "    </tr>\n",
       "    <tr>\n",
       "      <th>2</th>\n",
       "      <td>0.011990</td>\n",
       "      <td>0.001362</td>\n",
       "      <td>0.990606</td>\n",
       "      <td>1.0</td>\n",
       "    </tr>\n",
       "    <tr>\n",
       "      <th>3</th>\n",
       "      <td>0.015625</td>\n",
       "      <td>0.000000</td>\n",
       "      <td>0.991719</td>\n",
       "      <td>1.0</td>\n",
       "    </tr>\n",
       "    <tr>\n",
       "      <th>4</th>\n",
       "      <td>0.015620</td>\n",
       "      <td>0.000000</td>\n",
       "      <td>0.994251</td>\n",
       "      <td>1.0</td>\n",
       "    </tr>\n",
       "  </tbody>\n",
       "</table>\n",
       "</div>"
      ],
      "text/plain": [
       "   fit_time  score_time  test_score  train_score\n",
       "0  0.013843    0.014057    0.987641          1.0\n",
       "1  0.017448    0.003998    0.992729          1.0\n",
       "2  0.011990    0.001362    0.990606          1.0\n",
       "3  0.015625    0.000000    0.991719          1.0\n",
       "4  0.015620    0.000000    0.994251          1.0"
      ]
     },
     "execution_count": 58,
     "metadata": {},
     "output_type": "execute_result"
    }
   ],
   "source": [
    "categorical_score = pd.DataFrame(with_categorical_score)\n",
    "categorical_score"
   ]
  },
  {
   "cell_type": "code",
   "execution_count": 59,
   "id": "738f5d17",
   "metadata": {},
   "outputs": [
    {
     "data": {
      "text/plain": [
       "array([126.449997, 116.470001, 140.339996, 119.889999,  93.459999,\n",
       "       151.410004, 117.75    , 113.650002, 154.669998, 105.370003,\n",
       "       102.839996, 120.160004,  92.239998, 161.199997, 122.129997,\n",
       "       117.120003,  86.610001,  92.349998,  93.459999, 127.010002,\n",
       "        81.360001, 117.339996, 127.089996, 174.399994, 167.119995,\n",
       "       138.210007, 113.639999, 159.300003, 134.610001, 114.769997,\n",
       "       110.860001, 104.720001, 127.599998, 122.489998,  98.900002,\n",
       "       121.290001,  82.800003, 115.68    , 127.959999, 140.339996,\n",
       "       103.419998, 131.160004, 107.970001, 134.660004, 133.110001,\n",
       "       148.910004, 119.730003, 157.639999, 157.580002, 128.110001,\n",
       "       124.690002, 111.459999, 123.800003, 117.540001, 153.050003,\n",
       "       121.559998, 111.419998,  87.470001, 156.479996, 117.980003,\n",
       "        87.989998, 114.5     ,  84.279999, 146.869995, 123.389999,\n",
       "       127.059998, 125.18    , 120.389999, 168.020004, 121.190002,\n",
       "       126.080002, 173.589996, 121.559998, 166.610001, 119.599998,\n",
       "       129.289993, 155.089996, 107.849998, 114.669998, 162.559998,\n",
       "       120.120003, 126.220001, 117.339996, 121.82    , 112.029999,\n",
       "       162.559998, 114.019997, 113.32    , 125.669998,  96.18    ,\n",
       "       112.82    , 113.68    ,  80.809998, 160.330002, 127.279999,\n",
       "       118.82    ,  91.769997, 107.129997, 137.029999,  91.300003,\n",
       "       157.320007, 121.559998, 124.389999, 116.690002,  87.370003,\n",
       "       129.339996, 124.150002, 167.270004, 108.82    , 167.919998,\n",
       "       104.400002, 136.240005, 115.050003, 120.120003,  93.459999,\n",
       "       166.070007, 113.489998, 108.599998,  82.709999, 110.290001,\n",
       "       156.080002,  89.519997,  72.260002, 123.139999, 102.610001,\n",
       "       116.989998, 121.559998, 136.710007, 121.      , 104.230003,\n",
       "       107.559998, 115.669998,  94.349998, 122.230003, 116.610001,\n",
       "       114.290001,  74.      , 126.800003,  80.93    , 115.139999,\n",
       "       117.919998, 152.380005, 138.369995, 112.029999, 166.020004,\n",
       "       131.940002, 123.610001, 119.410004, 124.279999, 120.400002,\n",
       "       163.169998, 108.050003, 116.25    ,  87.089996, 126.980003,\n",
       "       112.25    ,  85.129997, 115.849998, 117.870003,  85.199997,\n",
       "       131.029999, 146.380005, 137.660004, 115.110001, 128.270004,\n",
       "       118.82    , 104.68    , 113.25    , 115.470001, 119.510002,\n",
       "       156.460007, 122.32    ,  89.690002, 120.620003, 105.370003,\n",
       "       120.940002, 108.389999, 105.720001, 120.769997, 125.410004,\n",
       "        87.419998, 171.649994, 119.790001, 118.160004, 161.880005,\n",
       "       120.660004, 108.360001, 126.269997, 133.740005, 121.290001,\n",
       "       118.230003, 135.020004, 135.460007, 116.029999, 137.710007,\n",
       "       136.5     , 124.43    , 125.199997, 182.899994, 120.660004,\n",
       "       167.100006,  95.120003, 132.289993,  93.279999,  98.339996,\n",
       "        89.540001, 105.410004, 111.370003, 163.240005, 161.360001,\n",
       "       152.710007, 114.769997, 120.220001, 119.120003, 120.110001,\n",
       "        90.690002, 102.889999, 155.630005, 111.459999, 102.610001,\n",
       "       157.639999,  76.949997, 119.699997, 168.789993, 117.099998,\n",
       "       149.910004, 154.470001, 138.220001, 153.679993, 130.369995,\n",
       "       133.25    , 120.959999, 115.540001, 135.229996, 168.350006,\n",
       "       151.910004, 126.849998, 162.020004, 126.980003, 111.459999,\n",
       "       169.610001, 117.339996,  85.599998, 162.600006, 152.990005,\n",
       "       115.540001, 130.559998,  91.300003,  91.580002, 115.669998,\n",
       "        87.5     , 117.099998, 119.18    , 157.199997, 116.769997,\n",
       "       106.260002, 117.209999, 141.110001, 109.879997, 122.769997,\n",
       "        81.230003, 124.43    , 125.660004, 173.490005, 127.07    ,\n",
       "       142.050003, 116.980003, 168.      , 106.169998, 171.649994,\n",
       "       111.629997, 114.290001,  87.989998, 125.32    , 117.959999,\n",
       "       152.380005, 163.259995,  82.599998, 105.699997, 110.260002,\n",
       "       109.699997, 108.419998, 118.290001,  92.059998,  86.949997,\n",
       "        85.900002, 137.899994, 126.449997, 120.220001,  96.18    ,\n",
       "       110.239998,  76.330002,  72.510002, 119.18    , 118.290001,\n",
       "        92.059998, 111.370003, 117.339996, 117.650002, 122.68    ,\n",
       "       146.589996,  88.32    , 132.289993, 115.879997, 153.229996,\n",
       "       114.290001, 152.889999, 124.889999, 119.059998, 113.849998,\n",
       "       125.18    , 136.699997, 140.339996, 116.029999, 128.559998,\n",
       "        93.449997, 116.690002,  91.309998,  89.440002, 106.080002,\n",
       "       131.809998, 154.669998, 163.240005, 119.18    , 102.690002,\n",
       "       106.459999, 150.759995, 151.619995, 106.540001, 136.5     ,\n",
       "       110.75    , 126.809998,  87.75    , 167.119995, 117.639999,\n",
       "       136.179993, 115.879997,  89.419998, 122.239998, 136.880005,\n",
       "       116.610001, 132.949997, 117.339996, 173.490005, 120.620003,\n",
       "       122.639999, 121.199997, 128.130005,  88.580002, 149.639999,\n",
       "       113.57    , 111.690002, 110.400002, 154.5     ,  92.760002,\n",
       "        93.25    , 119.040001, 156.460007, 119.599998, 155.990005,\n",
       "       126.620003, 159.889999, 122.790001, 131.160004, 120.959999,\n",
       "        72.709999,  93.459999,  89.220001, 121.559998, 110.400002,\n",
       "       117.769997, 107.790001, 125.720001, 126.480003, 122.150002,\n",
       "       120.419998, 104.230003, 109.879997, 110.760002, 149.820007,\n",
       "       125.739998, 135.410004, 125.720001, 138.669998, 142.149994,\n",
       "       108.589996, 110.339996, 128.990005, 114.290001, 115.059998,\n",
       "       121.190002, 149.910004,  92.949997, 103.019997, 129.210007,\n",
       "       125.75    , 162.389999, 121.330002, 149.880005, 111.309998,\n",
       "       125.440002,  88.580002,  80.389999, 127.959999, 125.779999,\n",
       "       133.970001, 120.010002, 127.839996,  87.220001, 123.610001,\n",
       "       117.739998, 115.879997, 102.199997, 122.150002,  93.449997,\n",
       "       102.839996, 124.769997, 115.470001, 126.709999,  90.209999,\n",
       "       120.220001, 108.599998, 121.239998, 131.940002,  85.269997,\n",
       "       124.529999, 101.25    , 100.730003, 103.559998,  89.18    ,\n",
       "       120.160004, 122.68    , 173.589996, 126.589996,  96.230003,\n",
       "       159.570007, 107.790001,  97.720001, 132.199997, 114.769997,\n",
       "        86.889999, 167.639999,  88.989998,  88.989998, 166.300003,\n",
       "       160.589996, 166.020004, 169.610001, 125.989998, 127.07    ,\n",
       "       122.290001,  91.25    , 122.239998, 119.82    , 129.860001,\n",
       "       163.399994, 116.650002, 109.160004])"
      ]
     },
     "execution_count": 59,
     "metadata": {},
     "output_type": "execute_result"
    }
   ],
   "source": [
    "pipe.predict(X_test)"
   ]
  },
  {
   "cell_type": "code",
   "execution_count": 60,
   "id": "216dd40b",
   "metadata": {},
   "outputs": [
    {
     "data": {
      "text/plain": [
       "1.0"
      ]
     },
     "execution_count": 60,
     "metadata": {},
     "output_type": "execute_result"
    }
   ],
   "source": [
    "pipe.score(X_train, y_train)"
   ]
  },
  {
   "cell_type": "code",
   "execution_count": 61,
   "id": "e1f76ae8",
   "metadata": {},
   "outputs": [
    {
     "data": {
      "text/plain": [
       "0.9934088760238098"
      ]
     },
     "execution_count": 61,
     "metadata": {},
     "output_type": "execute_result"
    }
   ],
   "source": [
    "pipe.score(X_test, y_test)"
   ]
  },
  {
   "cell_type": "code",
   "execution_count": null,
   "id": "2c905272",
   "metadata": {},
   "outputs": [],
   "source": []
  }
 ],
 "metadata": {
  "kernelspec": {
   "display_name": "project1",
   "language": "python",
   "name": "project1"
  },
  "language_info": {
   "codemirror_mode": {
    "name": "ipython",
    "version": 3
   },
   "file_extension": ".py",
   "mimetype": "text/x-python",
   "name": "python",
   "nbconvert_exporter": "python",
   "pygments_lexer": "ipython3",
   "version": "3.7.12"
  }
 },
 "nbformat": 4,
 "nbformat_minor": 5
}
