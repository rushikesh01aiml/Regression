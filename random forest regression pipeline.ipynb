{
 "cells": [
  {
   "cell_type": "code",
   "execution_count": 47,
   "id": "d734e927",
   "metadata": {},
   "outputs": [],
   "source": [
    "import pandas as pd\n",
    "import numpy as np\n",
    "import matplotlib.pyplot as plt\n",
    "from sklearn.pipeline import make_pipeline, Pipeline\n",
    "from sklearn.compose import make_column_transformer\n",
    "from sklearn.preprocessing import StandardScaler\n",
    "from sklearn.preprocessing import OneHotEncoder\n",
    "from sklearn.impute import SimpleImputer\n",
    "from sklearn.ensemble import RandomForestRegressor\n",
    "from sklearn import set_config\n",
    "set_config(display = 'diagram')"
   ]
  },
  {
   "cell_type": "code",
   "execution_count": 48,
   "id": "99d36da0",
   "metadata": {},
   "outputs": [
    {
     "data": {
      "text/html": [
       "<div>\n",
       "<style scoped>\n",
       "    .dataframe tbody tr th:only-of-type {\n",
       "        vertical-align: middle;\n",
       "    }\n",
       "\n",
       "    .dataframe tbody tr th {\n",
       "        vertical-align: top;\n",
       "    }\n",
       "\n",
       "    .dataframe thead th {\n",
       "        text-align: right;\n",
       "    }\n",
       "</style>\n",
       "<table border=\"1\" class=\"dataframe\">\n",
       "  <thead>\n",
       "    <tr style=\"text-align: right;\">\n",
       "      <th></th>\n",
       "      <th>Date</th>\n",
       "      <th>SPX</th>\n",
       "      <th>GLD</th>\n",
       "      <th>USO</th>\n",
       "      <th>SLV</th>\n",
       "      <th>EUR/USD</th>\n",
       "    </tr>\n",
       "  </thead>\n",
       "  <tbody>\n",
       "    <tr>\n",
       "      <th>0</th>\n",
       "      <td>1/2/2008</td>\n",
       "      <td>1447.160034</td>\n",
       "      <td>84.860001</td>\n",
       "      <td>78.470001</td>\n",
       "      <td>15.180</td>\n",
       "      <td>1.471692</td>\n",
       "    </tr>\n",
       "    <tr>\n",
       "      <th>1</th>\n",
       "      <td>1/3/2008</td>\n",
       "      <td>1447.160034</td>\n",
       "      <td>85.570000</td>\n",
       "      <td>78.370003</td>\n",
       "      <td>15.285</td>\n",
       "      <td>1.474491</td>\n",
       "    </tr>\n",
       "    <tr>\n",
       "      <th>2</th>\n",
       "      <td>1/4/2008</td>\n",
       "      <td>1411.630005</td>\n",
       "      <td>85.129997</td>\n",
       "      <td>77.309998</td>\n",
       "      <td>15.167</td>\n",
       "      <td>1.475492</td>\n",
       "    </tr>\n",
       "    <tr>\n",
       "      <th>3</th>\n",
       "      <td>1/7/2008</td>\n",
       "      <td>1416.180054</td>\n",
       "      <td>84.769997</td>\n",
       "      <td>75.500000</td>\n",
       "      <td>15.053</td>\n",
       "      <td>1.468299</td>\n",
       "    </tr>\n",
       "    <tr>\n",
       "      <th>4</th>\n",
       "      <td>1/8/2008</td>\n",
       "      <td>1390.189941</td>\n",
       "      <td>86.779999</td>\n",
       "      <td>76.059998</td>\n",
       "      <td>15.590</td>\n",
       "      <td>1.557099</td>\n",
       "    </tr>\n",
       "  </tbody>\n",
       "</table>\n",
       "</div>"
      ],
      "text/plain": [
       "       Date          SPX        GLD        USO     SLV   EUR/USD\n",
       "0  1/2/2008  1447.160034  84.860001  78.470001  15.180  1.471692\n",
       "1  1/3/2008  1447.160034  85.570000  78.370003  15.285  1.474491\n",
       "2  1/4/2008  1411.630005  85.129997  77.309998  15.167  1.475492\n",
       "3  1/7/2008  1416.180054  84.769997  75.500000  15.053  1.468299\n",
       "4  1/8/2008  1390.189941  86.779999  76.059998  15.590  1.557099"
      ]
     },
     "execution_count": 48,
     "metadata": {},
     "output_type": "execute_result"
    }
   ],
   "source": [
    "df = pd.read_csv('gld_price_data.csv')\n",
    "df.head()"
   ]
  },
  {
   "cell_type": "code",
   "execution_count": 49,
   "id": "4bc37dc3",
   "metadata": {},
   "outputs": [
    {
     "data": {
      "text/plain": [
       "Date       0\n",
       "SPX        0\n",
       "GLD        0\n",
       "USO        0\n",
       "SLV        0\n",
       "EUR/USD    0\n",
       "dtype: int64"
      ]
     },
     "execution_count": 49,
     "metadata": {},
     "output_type": "execute_result"
    }
   ],
   "source": [
    "df.isnull().sum()"
   ]
  },
  {
   "cell_type": "code",
   "execution_count": 50,
   "id": "2e6b26b4",
   "metadata": {},
   "outputs": [
    {
     "data": {
      "text/plain": [
       "2290"
      ]
     },
     "execution_count": 50,
     "metadata": {},
     "output_type": "execute_result"
    }
   ],
   "source": [
    "len(df)"
   ]
  },
  {
   "cell_type": "code",
   "execution_count": 51,
   "id": "a27593bc",
   "metadata": {},
   "outputs": [],
   "source": [
    "df['Date'] = pd.to_datetime(df['Date'])"
   ]
  },
  {
   "cell_type": "code",
   "execution_count": 52,
   "id": "791876b8",
   "metadata": {},
   "outputs": [
    {
     "data": {
      "text/html": [
       "<div>\n",
       "<style scoped>\n",
       "    .dataframe tbody tr th:only-of-type {\n",
       "        vertical-align: middle;\n",
       "    }\n",
       "\n",
       "    .dataframe tbody tr th {\n",
       "        vertical-align: top;\n",
       "    }\n",
       "\n",
       "    .dataframe thead th {\n",
       "        text-align: right;\n",
       "    }\n",
       "</style>\n",
       "<table border=\"1\" class=\"dataframe\">\n",
       "  <thead>\n",
       "    <tr style=\"text-align: right;\">\n",
       "      <th></th>\n",
       "      <th>Date</th>\n",
       "      <th>SPX</th>\n",
       "      <th>GLD</th>\n",
       "      <th>USO</th>\n",
       "      <th>SLV</th>\n",
       "      <th>EUR/USD</th>\n",
       "    </tr>\n",
       "  </thead>\n",
       "  <tbody>\n",
       "    <tr>\n",
       "      <th>0</th>\n",
       "      <td>2008-01-02</td>\n",
       "      <td>1447.160034</td>\n",
       "      <td>84.860001</td>\n",
       "      <td>78.470001</td>\n",
       "      <td>15.1800</td>\n",
       "      <td>1.471692</td>\n",
       "    </tr>\n",
       "    <tr>\n",
       "      <th>1</th>\n",
       "      <td>2008-01-03</td>\n",
       "      <td>1447.160034</td>\n",
       "      <td>85.570000</td>\n",
       "      <td>78.370003</td>\n",
       "      <td>15.2850</td>\n",
       "      <td>1.474491</td>\n",
       "    </tr>\n",
       "    <tr>\n",
       "      <th>2</th>\n",
       "      <td>2008-01-04</td>\n",
       "      <td>1411.630005</td>\n",
       "      <td>85.129997</td>\n",
       "      <td>77.309998</td>\n",
       "      <td>15.1670</td>\n",
       "      <td>1.475492</td>\n",
       "    </tr>\n",
       "    <tr>\n",
       "      <th>3</th>\n",
       "      <td>2008-01-07</td>\n",
       "      <td>1416.180054</td>\n",
       "      <td>84.769997</td>\n",
       "      <td>75.500000</td>\n",
       "      <td>15.0530</td>\n",
       "      <td>1.468299</td>\n",
       "    </tr>\n",
       "    <tr>\n",
       "      <th>4</th>\n",
       "      <td>2008-01-08</td>\n",
       "      <td>1390.189941</td>\n",
       "      <td>86.779999</td>\n",
       "      <td>76.059998</td>\n",
       "      <td>15.5900</td>\n",
       "      <td>1.557099</td>\n",
       "    </tr>\n",
       "    <tr>\n",
       "      <th>...</th>\n",
       "      <td>...</td>\n",
       "      <td>...</td>\n",
       "      <td>...</td>\n",
       "      <td>...</td>\n",
       "      <td>...</td>\n",
       "      <td>...</td>\n",
       "    </tr>\n",
       "    <tr>\n",
       "      <th>2285</th>\n",
       "      <td>2018-05-08</td>\n",
       "      <td>2671.919922</td>\n",
       "      <td>124.589996</td>\n",
       "      <td>14.060000</td>\n",
       "      <td>15.5100</td>\n",
       "      <td>1.186789</td>\n",
       "    </tr>\n",
       "    <tr>\n",
       "      <th>2286</th>\n",
       "      <td>2018-05-09</td>\n",
       "      <td>2697.790039</td>\n",
       "      <td>124.330002</td>\n",
       "      <td>14.370000</td>\n",
       "      <td>15.5300</td>\n",
       "      <td>1.184722</td>\n",
       "    </tr>\n",
       "    <tr>\n",
       "      <th>2287</th>\n",
       "      <td>2018-05-10</td>\n",
       "      <td>2723.070068</td>\n",
       "      <td>125.180000</td>\n",
       "      <td>14.410000</td>\n",
       "      <td>15.7400</td>\n",
       "      <td>1.191753</td>\n",
       "    </tr>\n",
       "    <tr>\n",
       "      <th>2288</th>\n",
       "      <td>2018-05-14</td>\n",
       "      <td>2730.129883</td>\n",
       "      <td>124.489998</td>\n",
       "      <td>14.380000</td>\n",
       "      <td>15.5600</td>\n",
       "      <td>1.193118</td>\n",
       "    </tr>\n",
       "    <tr>\n",
       "      <th>2289</th>\n",
       "      <td>2018-05-16</td>\n",
       "      <td>2725.780029</td>\n",
       "      <td>122.543800</td>\n",
       "      <td>14.405800</td>\n",
       "      <td>15.4542</td>\n",
       "      <td>1.182033</td>\n",
       "    </tr>\n",
       "  </tbody>\n",
       "</table>\n",
       "<p>2290 rows × 6 columns</p>\n",
       "</div>"
      ],
      "text/plain": [
       "           Date          SPX         GLD        USO      SLV   EUR/USD\n",
       "0    2008-01-02  1447.160034   84.860001  78.470001  15.1800  1.471692\n",
       "1    2008-01-03  1447.160034   85.570000  78.370003  15.2850  1.474491\n",
       "2    2008-01-04  1411.630005   85.129997  77.309998  15.1670  1.475492\n",
       "3    2008-01-07  1416.180054   84.769997  75.500000  15.0530  1.468299\n",
       "4    2008-01-08  1390.189941   86.779999  76.059998  15.5900  1.557099\n",
       "...         ...          ...         ...        ...      ...       ...\n",
       "2285 2018-05-08  2671.919922  124.589996  14.060000  15.5100  1.186789\n",
       "2286 2018-05-09  2697.790039  124.330002  14.370000  15.5300  1.184722\n",
       "2287 2018-05-10  2723.070068  125.180000  14.410000  15.7400  1.191753\n",
       "2288 2018-05-14  2730.129883  124.489998  14.380000  15.5600  1.193118\n",
       "2289 2018-05-16  2725.780029  122.543800  14.405800  15.4542  1.182033\n",
       "\n",
       "[2290 rows x 6 columns]"
      ]
     },
     "execution_count": 52,
     "metadata": {},
     "output_type": "execute_result"
    }
   ],
   "source": [
    "df"
   ]
  },
  {
   "cell_type": "code",
   "execution_count": 53,
   "id": "44ce9270",
   "metadata": {},
   "outputs": [],
   "source": [
    "df = pd.read_csv('gld_price_data.csv', parse_dates = ['Date'])"
   ]
  },
  {
   "cell_type": "code",
   "execution_count": 54,
   "id": "1a119561",
   "metadata": {},
   "outputs": [],
   "source": [
    "df['Month'] = df['Date'].dt.month"
   ]
  },
  {
   "cell_type": "code",
   "execution_count": 55,
   "id": "33a9d19a",
   "metadata": {},
   "outputs": [],
   "source": [
    "df['Year'] = df['Date'].dt.year"
   ]
  },
  {
   "cell_type": "code",
   "execution_count": 56,
   "id": "611f13db",
   "metadata": {},
   "outputs": [
    {
     "data": {
      "text/html": [
       "<div>\n",
       "<style scoped>\n",
       "    .dataframe tbody tr th:only-of-type {\n",
       "        vertical-align: middle;\n",
       "    }\n",
       "\n",
       "    .dataframe tbody tr th {\n",
       "        vertical-align: top;\n",
       "    }\n",
       "\n",
       "    .dataframe thead th {\n",
       "        text-align: right;\n",
       "    }\n",
       "</style>\n",
       "<table border=\"1\" class=\"dataframe\">\n",
       "  <thead>\n",
       "    <tr style=\"text-align: right;\">\n",
       "      <th></th>\n",
       "      <th>Date</th>\n",
       "      <th>SPX</th>\n",
       "      <th>GLD</th>\n",
       "      <th>USO</th>\n",
       "      <th>SLV</th>\n",
       "      <th>EUR/USD</th>\n",
       "      <th>Month</th>\n",
       "      <th>Year</th>\n",
       "    </tr>\n",
       "  </thead>\n",
       "  <tbody>\n",
       "    <tr>\n",
       "      <th>0</th>\n",
       "      <td>2008-01-02</td>\n",
       "      <td>1447.160034</td>\n",
       "      <td>84.860001</td>\n",
       "      <td>78.470001</td>\n",
       "      <td>15.1800</td>\n",
       "      <td>1.471692</td>\n",
       "      <td>1</td>\n",
       "      <td>2008</td>\n",
       "    </tr>\n",
       "    <tr>\n",
       "      <th>1</th>\n",
       "      <td>2008-01-03</td>\n",
       "      <td>1447.160034</td>\n",
       "      <td>85.570000</td>\n",
       "      <td>78.370003</td>\n",
       "      <td>15.2850</td>\n",
       "      <td>1.474491</td>\n",
       "      <td>1</td>\n",
       "      <td>2008</td>\n",
       "    </tr>\n",
       "    <tr>\n",
       "      <th>2</th>\n",
       "      <td>2008-01-04</td>\n",
       "      <td>1411.630005</td>\n",
       "      <td>85.129997</td>\n",
       "      <td>77.309998</td>\n",
       "      <td>15.1670</td>\n",
       "      <td>1.475492</td>\n",
       "      <td>1</td>\n",
       "      <td>2008</td>\n",
       "    </tr>\n",
       "    <tr>\n",
       "      <th>3</th>\n",
       "      <td>2008-01-07</td>\n",
       "      <td>1416.180054</td>\n",
       "      <td>84.769997</td>\n",
       "      <td>75.500000</td>\n",
       "      <td>15.0530</td>\n",
       "      <td>1.468299</td>\n",
       "      <td>1</td>\n",
       "      <td>2008</td>\n",
       "    </tr>\n",
       "    <tr>\n",
       "      <th>4</th>\n",
       "      <td>2008-01-08</td>\n",
       "      <td>1390.189941</td>\n",
       "      <td>86.779999</td>\n",
       "      <td>76.059998</td>\n",
       "      <td>15.5900</td>\n",
       "      <td>1.557099</td>\n",
       "      <td>1</td>\n",
       "      <td>2008</td>\n",
       "    </tr>\n",
       "    <tr>\n",
       "      <th>...</th>\n",
       "      <td>...</td>\n",
       "      <td>...</td>\n",
       "      <td>...</td>\n",
       "      <td>...</td>\n",
       "      <td>...</td>\n",
       "      <td>...</td>\n",
       "      <td>...</td>\n",
       "      <td>...</td>\n",
       "    </tr>\n",
       "    <tr>\n",
       "      <th>2285</th>\n",
       "      <td>2018-05-08</td>\n",
       "      <td>2671.919922</td>\n",
       "      <td>124.589996</td>\n",
       "      <td>14.060000</td>\n",
       "      <td>15.5100</td>\n",
       "      <td>1.186789</td>\n",
       "      <td>5</td>\n",
       "      <td>2018</td>\n",
       "    </tr>\n",
       "    <tr>\n",
       "      <th>2286</th>\n",
       "      <td>2018-05-09</td>\n",
       "      <td>2697.790039</td>\n",
       "      <td>124.330002</td>\n",
       "      <td>14.370000</td>\n",
       "      <td>15.5300</td>\n",
       "      <td>1.184722</td>\n",
       "      <td>5</td>\n",
       "      <td>2018</td>\n",
       "    </tr>\n",
       "    <tr>\n",
       "      <th>2287</th>\n",
       "      <td>2018-05-10</td>\n",
       "      <td>2723.070068</td>\n",
       "      <td>125.180000</td>\n",
       "      <td>14.410000</td>\n",
       "      <td>15.7400</td>\n",
       "      <td>1.191753</td>\n",
       "      <td>5</td>\n",
       "      <td>2018</td>\n",
       "    </tr>\n",
       "    <tr>\n",
       "      <th>2288</th>\n",
       "      <td>2018-05-14</td>\n",
       "      <td>2730.129883</td>\n",
       "      <td>124.489998</td>\n",
       "      <td>14.380000</td>\n",
       "      <td>15.5600</td>\n",
       "      <td>1.193118</td>\n",
       "      <td>5</td>\n",
       "      <td>2018</td>\n",
       "    </tr>\n",
       "    <tr>\n",
       "      <th>2289</th>\n",
       "      <td>2018-05-16</td>\n",
       "      <td>2725.780029</td>\n",
       "      <td>122.543800</td>\n",
       "      <td>14.405800</td>\n",
       "      <td>15.4542</td>\n",
       "      <td>1.182033</td>\n",
       "      <td>5</td>\n",
       "      <td>2018</td>\n",
       "    </tr>\n",
       "  </tbody>\n",
       "</table>\n",
       "<p>2290 rows × 8 columns</p>\n",
       "</div>"
      ],
      "text/plain": [
       "           Date          SPX         GLD        USO      SLV   EUR/USD  Month  \\\n",
       "0    2008-01-02  1447.160034   84.860001  78.470001  15.1800  1.471692      1   \n",
       "1    2008-01-03  1447.160034   85.570000  78.370003  15.2850  1.474491      1   \n",
       "2    2008-01-04  1411.630005   85.129997  77.309998  15.1670  1.475492      1   \n",
       "3    2008-01-07  1416.180054   84.769997  75.500000  15.0530  1.468299      1   \n",
       "4    2008-01-08  1390.189941   86.779999  76.059998  15.5900  1.557099      1   \n",
       "...         ...          ...         ...        ...      ...       ...    ...   \n",
       "2285 2018-05-08  2671.919922  124.589996  14.060000  15.5100  1.186789      5   \n",
       "2286 2018-05-09  2697.790039  124.330002  14.370000  15.5300  1.184722      5   \n",
       "2287 2018-05-10  2723.070068  125.180000  14.410000  15.7400  1.191753      5   \n",
       "2288 2018-05-14  2730.129883  124.489998  14.380000  15.5600  1.193118      5   \n",
       "2289 2018-05-16  2725.780029  122.543800  14.405800  15.4542  1.182033      5   \n",
       "\n",
       "      Year  \n",
       "0     2008  \n",
       "1     2008  \n",
       "2     2008  \n",
       "3     2008  \n",
       "4     2008  \n",
       "...    ...  \n",
       "2285  2018  \n",
       "2286  2018  \n",
       "2287  2018  \n",
       "2288  2018  \n",
       "2289  2018  \n",
       "\n",
       "[2290 rows x 8 columns]"
      ]
     },
     "execution_count": 56,
     "metadata": {},
     "output_type": "execute_result"
    }
   ],
   "source": [
    "df"
   ]
  },
  {
   "cell_type": "code",
   "execution_count": 57,
   "id": "e65de640",
   "metadata": {},
   "outputs": [],
   "source": [
    "df = df.drop(columns = ['Date'])"
   ]
  },
  {
   "cell_type": "code",
   "execution_count": 58,
   "id": "ecc209f5",
   "metadata": {},
   "outputs": [
    {
     "data": {
      "text/plain": [
       "SPX        0\n",
       "GLD        0\n",
       "USO        0\n",
       "SLV        0\n",
       "EUR/USD    0\n",
       "Month      0\n",
       "Year       0\n",
       "dtype: int64"
      ]
     },
     "execution_count": 58,
     "metadata": {},
     "output_type": "execute_result"
    }
   ],
   "source": [
    "df.isnull().sum()"
   ]
  },
  {
   "cell_type": "code",
   "execution_count": 59,
   "id": "cac37604",
   "metadata": {},
   "outputs": [
    {
     "data": {
      "text/plain": [
       "(2290, 7)"
      ]
     },
     "execution_count": 59,
     "metadata": {},
     "output_type": "execute_result"
    }
   ],
   "source": [
    "df.shape"
   ]
  },
  {
   "cell_type": "code",
   "execution_count": 60,
   "id": "7492fda4",
   "metadata": {},
   "outputs": [
    {
     "name": "stdout",
     "output_type": "stream",
     "text": [
      "<class 'pandas.core.frame.DataFrame'>\n",
      "RangeIndex: 2290 entries, 0 to 2289\n",
      "Data columns (total 7 columns):\n",
      " #   Column   Non-Null Count  Dtype  \n",
      "---  ------   --------------  -----  \n",
      " 0   SPX      2290 non-null   float64\n",
      " 1   GLD      2290 non-null   float64\n",
      " 2   USO      2290 non-null   float64\n",
      " 3   SLV      2290 non-null   float64\n",
      " 4   EUR/USD  2290 non-null   float64\n",
      " 5   Month    2290 non-null   int64  \n",
      " 6   Year     2290 non-null   int64  \n",
      "dtypes: float64(5), int64(2)\n",
      "memory usage: 125.4 KB\n"
     ]
    }
   ],
   "source": [
    "df.info()"
   ]
  },
  {
   "cell_type": "code",
   "execution_count": 61,
   "id": "157ddc37",
   "metadata": {},
   "outputs": [
    {
     "data": {
      "text/html": [
       "<div>\n",
       "<style scoped>\n",
       "    .dataframe tbody tr th:only-of-type {\n",
       "        vertical-align: middle;\n",
       "    }\n",
       "\n",
       "    .dataframe tbody tr th {\n",
       "        vertical-align: top;\n",
       "    }\n",
       "\n",
       "    .dataframe thead th {\n",
       "        text-align: right;\n",
       "    }\n",
       "</style>\n",
       "<table border=\"1\" class=\"dataframe\">\n",
       "  <thead>\n",
       "    <tr style=\"text-align: right;\">\n",
       "      <th></th>\n",
       "      <th>SPX</th>\n",
       "      <th>GLD</th>\n",
       "      <th>USO</th>\n",
       "      <th>SLV</th>\n",
       "      <th>EUR/USD</th>\n",
       "      <th>Month</th>\n",
       "      <th>Year</th>\n",
       "    </tr>\n",
       "  </thead>\n",
       "  <tbody>\n",
       "    <tr>\n",
       "      <th>count</th>\n",
       "      <td>2290.000000</td>\n",
       "      <td>2290.000000</td>\n",
       "      <td>2290.000000</td>\n",
       "      <td>2290.000000</td>\n",
       "      <td>2290.000000</td>\n",
       "      <td>2290.000000</td>\n",
       "      <td>2290.000000</td>\n",
       "    </tr>\n",
       "    <tr>\n",
       "      <th>mean</th>\n",
       "      <td>1654.315776</td>\n",
       "      <td>122.732875</td>\n",
       "      <td>31.842221</td>\n",
       "      <td>20.084997</td>\n",
       "      <td>1.283653</td>\n",
       "      <td>6.329258</td>\n",
       "      <td>2012.724891</td>\n",
       "    </tr>\n",
       "    <tr>\n",
       "      <th>std</th>\n",
       "      <td>519.111540</td>\n",
       "      <td>23.283346</td>\n",
       "      <td>19.523517</td>\n",
       "      <td>7.092566</td>\n",
       "      <td>0.131547</td>\n",
       "      <td>3.591149</td>\n",
       "      <td>2.993271</td>\n",
       "    </tr>\n",
       "    <tr>\n",
       "      <th>min</th>\n",
       "      <td>676.530029</td>\n",
       "      <td>70.000000</td>\n",
       "      <td>7.960000</td>\n",
       "      <td>8.850000</td>\n",
       "      <td>1.039047</td>\n",
       "      <td>1.000000</td>\n",
       "      <td>2008.000000</td>\n",
       "    </tr>\n",
       "    <tr>\n",
       "      <th>25%</th>\n",
       "      <td>1239.874969</td>\n",
       "      <td>109.725000</td>\n",
       "      <td>14.380000</td>\n",
       "      <td>15.570000</td>\n",
       "      <td>1.171313</td>\n",
       "      <td>3.000000</td>\n",
       "      <td>2010.000000</td>\n",
       "    </tr>\n",
       "    <tr>\n",
       "      <th>50%</th>\n",
       "      <td>1551.434998</td>\n",
       "      <td>120.580002</td>\n",
       "      <td>33.869999</td>\n",
       "      <td>17.268500</td>\n",
       "      <td>1.303297</td>\n",
       "      <td>6.000000</td>\n",
       "      <td>2013.000000</td>\n",
       "    </tr>\n",
       "    <tr>\n",
       "      <th>75%</th>\n",
       "      <td>2073.010070</td>\n",
       "      <td>132.840004</td>\n",
       "      <td>37.827501</td>\n",
       "      <td>22.882500</td>\n",
       "      <td>1.369971</td>\n",
       "      <td>10.000000</td>\n",
       "      <td>2015.000000</td>\n",
       "    </tr>\n",
       "    <tr>\n",
       "      <th>max</th>\n",
       "      <td>2872.870117</td>\n",
       "      <td>184.589996</td>\n",
       "      <td>117.480003</td>\n",
       "      <td>47.259998</td>\n",
       "      <td>1.598798</td>\n",
       "      <td>12.000000</td>\n",
       "      <td>2018.000000</td>\n",
       "    </tr>\n",
       "  </tbody>\n",
       "</table>\n",
       "</div>"
      ],
      "text/plain": [
       "               SPX          GLD          USO          SLV      EUR/USD  \\\n",
       "count  2290.000000  2290.000000  2290.000000  2290.000000  2290.000000   \n",
       "mean   1654.315776   122.732875    31.842221    20.084997     1.283653   \n",
       "std     519.111540    23.283346    19.523517     7.092566     0.131547   \n",
       "min     676.530029    70.000000     7.960000     8.850000     1.039047   \n",
       "25%    1239.874969   109.725000    14.380000    15.570000     1.171313   \n",
       "50%    1551.434998   120.580002    33.869999    17.268500     1.303297   \n",
       "75%    2073.010070   132.840004    37.827501    22.882500     1.369971   \n",
       "max    2872.870117   184.589996   117.480003    47.259998     1.598798   \n",
       "\n",
       "             Month         Year  \n",
       "count  2290.000000  2290.000000  \n",
       "mean      6.329258  2012.724891  \n",
       "std       3.591149     2.993271  \n",
       "min       1.000000  2008.000000  \n",
       "25%       3.000000  2010.000000  \n",
       "50%       6.000000  2013.000000  \n",
       "75%      10.000000  2015.000000  \n",
       "max      12.000000  2018.000000  "
      ]
     },
     "execution_count": 61,
     "metadata": {},
     "output_type": "execute_result"
    }
   ],
   "source": [
    "df.describe()"
   ]
  },
  {
   "cell_type": "code",
   "execution_count": 62,
   "id": "624cb229",
   "metadata": {},
   "outputs": [],
   "source": [
    "import seaborn as sns\n",
    "correlation = df.corr()"
   ]
  },
  {
   "cell_type": "code",
   "execution_count": 63,
   "id": "50ad9151",
   "metadata": {},
   "outputs": [
    {
     "data": {
      "text/plain": [
       "<AxesSubplot:>"
      ]
     },
     "execution_count": 63,
     "metadata": {},
     "output_type": "execute_result"
    },
    {
     "data": {
      "image/png": "[encoded data removed]",
      "text/plain": [
       "<Figure size 800x800 with 2 Axes>"
      ]
     },
     "metadata": {},
     "output_type": "display_data"
    }
   ],
   "source": [
    "plt.figure(figsize = (8,8))\n",
    "sns.heatmap(correlation, cbar=True, square=True, fmt='.1f',annot=True, annot_kws={'size':8})\n"
   ]
  },
  {
   "cell_type": "code",
   "execution_count": 64,
   "id": "b7032147",
   "metadata": {},
   "outputs": [
    {
     "name": "stdout",
     "output_type": "stream",
     "text": [
      "SPX        0.049345\n",
      "GLD        1.000000\n",
      "USO       -0.186360\n",
      "SLV        0.866632\n",
      "EUR/USD   -0.024375\n",
      "Month      0.020494\n",
      "Year       0.206654\n",
      "Name: GLD, dtype: float64\n"
     ]
    }
   ],
   "source": [
    "print(correlation['GLD'])"
   ]
  },
  {
   "cell_type": "code",
   "execution_count": 65,
   "id": "78d360bb",
   "metadata": {},
   "outputs": [
    {
     "name": "stderr",
     "output_type": "stream",
     "text": [
      "C:\\Users\\admin\\anaconda3\\envs\\project1\\lib\\site-packages\\ipykernel_launcher.py:1: UserWarning: \n",
      "\n",
      "`distplot` is a deprecated function and will be removed in seaborn v0.14.0.\n",
      "\n",
      "Please adapt your code to use either `displot` (a figure-level function with\n",
      "similar flexibility) or `histplot` (an axes-level function for histograms).\n",
      "\n",
      "For a guide to updating your code to use the new functions, please see\n",
      "https://gist.github.com/mwaskom/de44147ed2974457ad6372750bbe5751\n",
      "\n",
      "  \"\"\"Entry point for launching an IPython kernel.\n"
     ]
    },
    {
     "data": {
      "text/plain": [
       "<AxesSubplot:xlabel='GLD', ylabel='Density'>"
      ]
     },
     "execution_count": 65,
     "metadata": {},
     "output_type": "execute_result"
    },
    {
     "data": {
      "image/png": "[encoded data removed]",
      "text/plain": [
       "<Figure size 640x480 with 1 Axes>"
      ]
     },
     "metadata": {},
     "output_type": "display_data"
    }
   ],
   "source": [
    "sns.distplot(df['GLD'], color = 'pink')"
   ]
  },
  {
   "cell_type": "code",
   "execution_count": 66,
   "id": "c4d2f093",
   "metadata": {},
   "outputs": [],
   "source": [
    "X = df.drop(columns = ['GLD'])\n",
    "y = df['GLD']"
   ]
  },
  {
   "cell_type": "code",
   "execution_count": 67,
   "id": "564bd737",
   "metadata": {},
   "outputs": [
    {
     "data": {
      "text/html": [
       "<div>\n",
       "<style scoped>\n",
       "    .dataframe tbody tr th:only-of-type {\n",
       "        vertical-align: middle;\n",
       "    }\n",
       "\n",
       "    .dataframe tbody tr th {\n",
       "        vertical-align: top;\n",
       "    }\n",
       "\n",
       "    .dataframe thead th {\n",
       "        text-align: right;\n",
       "    }\n",
       "</style>\n",
       "<table border=\"1\" class=\"dataframe\">\n",
       "  <thead>\n",
       "    <tr style=\"text-align: right;\">\n",
       "      <th></th>\n",
       "      <th>SPX</th>\n",
       "      <th>USO</th>\n",
       "      <th>SLV</th>\n",
       "      <th>EUR/USD</th>\n",
       "      <th>Month</th>\n",
       "      <th>Year</th>\n",
       "    </tr>\n",
       "  </thead>\n",
       "  <tbody>\n",
       "    <tr>\n",
       "      <th>0</th>\n",
       "      <td>1447.160034</td>\n",
       "      <td>78.470001</td>\n",
       "      <td>15.1800</td>\n",
       "      <td>1.471692</td>\n",
       "      <td>1</td>\n",
       "      <td>2008</td>\n",
       "    </tr>\n",
       "    <tr>\n",
       "      <th>1</th>\n",
       "      <td>1447.160034</td>\n",
       "      <td>78.370003</td>\n",
       "      <td>15.2850</td>\n",
       "      <td>1.474491</td>\n",
       "      <td>1</td>\n",
       "      <td>2008</td>\n",
       "    </tr>\n",
       "    <tr>\n",
       "      <th>2</th>\n",
       "      <td>1411.630005</td>\n",
       "      <td>77.309998</td>\n",
       "      <td>15.1670</td>\n",
       "      <td>1.475492</td>\n",
       "      <td>1</td>\n",
       "      <td>2008</td>\n",
       "    </tr>\n",
       "    <tr>\n",
       "      <th>3</th>\n",
       "      <td>1416.180054</td>\n",
       "      <td>75.500000</td>\n",
       "      <td>15.0530</td>\n",
       "      <td>1.468299</td>\n",
       "      <td>1</td>\n",
       "      <td>2008</td>\n",
       "    </tr>\n",
       "    <tr>\n",
       "      <th>4</th>\n",
       "      <td>1390.189941</td>\n",
       "      <td>76.059998</td>\n",
       "      <td>15.5900</td>\n",
       "      <td>1.557099</td>\n",
       "      <td>1</td>\n",
       "      <td>2008</td>\n",
       "    </tr>\n",
       "    <tr>\n",
       "      <th>...</th>\n",
       "      <td>...</td>\n",
       "      <td>...</td>\n",
       "      <td>...</td>\n",
       "      <td>...</td>\n",
       "      <td>...</td>\n",
       "      <td>...</td>\n",
       "    </tr>\n",
       "    <tr>\n",
       "      <th>2285</th>\n",
       "      <td>2671.919922</td>\n",
       "      <td>14.060000</td>\n",
       "      <td>15.5100</td>\n",
       "      <td>1.186789</td>\n",
       "      <td>5</td>\n",
       "      <td>2018</td>\n",
       "    </tr>\n",
       "    <tr>\n",
       "      <th>2286</th>\n",
       "      <td>2697.790039</td>\n",
       "      <td>14.370000</td>\n",
       "      <td>15.5300</td>\n",
       "      <td>1.184722</td>\n",
       "      <td>5</td>\n",
       "      <td>2018</td>\n",
       "    </tr>\n",
       "    <tr>\n",
       "      <th>2287</th>\n",
       "      <td>2723.070068</td>\n",
       "      <td>14.410000</td>\n",
       "      <td>15.7400</td>\n",
       "      <td>1.191753</td>\n",
       "      <td>5</td>\n",
       "      <td>2018</td>\n",
       "    </tr>\n",
       "    <tr>\n",
       "      <th>2288</th>\n",
       "      <td>2730.129883</td>\n",
       "      <td>14.380000</td>\n",
       "      <td>15.5600</td>\n",
       "      <td>1.193118</td>\n",
       "      <td>5</td>\n",
       "      <td>2018</td>\n",
       "    </tr>\n",
       "    <tr>\n",
       "      <th>2289</th>\n",
       "      <td>2725.780029</td>\n",
       "      <td>14.405800</td>\n",
       "      <td>15.4542</td>\n",
       "      <td>1.182033</td>\n",
       "      <td>5</td>\n",
       "      <td>2018</td>\n",
       "    </tr>\n",
       "  </tbody>\n",
       "</table>\n",
       "<p>2290 rows × 6 columns</p>\n",
       "</div>"
      ],
      "text/plain": [
       "              SPX        USO      SLV   EUR/USD  Month  Year\n",
       "0     1447.160034  78.470001  15.1800  1.471692      1  2008\n",
       "1     1447.160034  78.370003  15.2850  1.474491      1  2008\n",
       "2     1411.630005  77.309998  15.1670  1.475492      1  2008\n",
       "3     1416.180054  75.500000  15.0530  1.468299      1  2008\n",
       "4     1390.189941  76.059998  15.5900  1.557099      1  2008\n",
       "...           ...        ...      ...       ...    ...   ...\n",
       "2285  2671.919922  14.060000  15.5100  1.186789      5  2018\n",
       "2286  2697.790039  14.370000  15.5300  1.184722      5  2018\n",
       "2287  2723.070068  14.410000  15.7400  1.191753      5  2018\n",
       "2288  2730.129883  14.380000  15.5600  1.193118      5  2018\n",
       "2289  2725.780029  14.405800  15.4542  1.182033      5  2018\n",
       "\n",
       "[2290 rows x 6 columns]"
      ]
     },
     "execution_count": 67,
     "metadata": {},
     "output_type": "execute_result"
    }
   ],
   "source": [
    "X"
   ]
  },
  {
   "cell_type": "code",
   "execution_count": 68,
   "id": "0e40df8f",
   "metadata": {},
   "outputs": [
    {
     "data": {
      "text/plain": [
       "0        84.860001\n",
       "1        85.570000\n",
       "2        85.129997\n",
       "3        84.769997\n",
       "4        86.779999\n",
       "           ...    \n",
       "2285    124.589996\n",
       "2286    124.330002\n",
       "2287    125.180000\n",
       "2288    124.489998\n",
       "2289    122.543800\n",
       "Name: GLD, Length: 2290, dtype: float64"
      ]
     },
     "execution_count": 68,
     "metadata": {},
     "output_type": "execute_result"
    }
   ],
   "source": [
    "y"
   ]
  },
  {
   "cell_type": "code",
   "execution_count": 69,
   "id": "fa3a086d",
   "metadata": {},
   "outputs": [],
   "source": [
    "from sklearn.model_selection import train_test_split\n",
    "X_train, X_test, y_train, y_test = train_test_split(X, y, test_size = 0.2, random_state = 0)"
   ]
  },
  {
   "cell_type": "code",
   "execution_count": 70,
   "id": "467d2d72",
   "metadata": {},
   "outputs": [
    {
     "data": {
      "text/html": [
       "<div>\n",
       "<style scoped>\n",
       "    .dataframe tbody tr th:only-of-type {\n",
       "        vertical-align: middle;\n",
       "    }\n",
       "\n",
       "    .dataframe tbody tr th {\n",
       "        vertical-align: top;\n",
       "    }\n",
       "\n",
       "    .dataframe thead th {\n",
       "        text-align: right;\n",
       "    }\n",
       "</style>\n",
       "<table border=\"1\" class=\"dataframe\">\n",
       "  <thead>\n",
       "    <tr style=\"text-align: right;\">\n",
       "      <th></th>\n",
       "      <th>SPX</th>\n",
       "      <th>USO</th>\n",
       "      <th>SLV</th>\n",
       "      <th>EUR/USD</th>\n",
       "      <th>Month</th>\n",
       "      <th>Year</th>\n",
       "    </tr>\n",
       "  </thead>\n",
       "  <tbody>\n",
       "    <tr>\n",
       "      <th>486</th>\n",
       "      <td>1165.810059</td>\n",
       "      <td>39.560001</td>\n",
       "      <td>16.600000</td>\n",
       "      <td>1.356705</td>\n",
       "      <td>3</td>\n",
       "      <td>2010</td>\n",
       "    </tr>\n",
       "    <tr>\n",
       "      <th>31</th>\n",
       "      <td>1349.989990</td>\n",
       "      <td>75.930000</td>\n",
       "      <td>16.952000</td>\n",
       "      <td>1.467610</td>\n",
       "      <td>2</td>\n",
       "      <td>2008</td>\n",
       "    </tr>\n",
       "    <tr>\n",
       "      <th>1754</th>\n",
       "      <td>2041.890015</td>\n",
       "      <td>10.740000</td>\n",
       "      <td>13.080000</td>\n",
       "      <td>1.087453</td>\n",
       "      <td>12</td>\n",
       "      <td>2015</td>\n",
       "    </tr>\n",
       "    <tr>\n",
       "      <th>1490</th>\n",
       "      <td>1862.760010</td>\n",
       "      <td>31.100000</td>\n",
       "      <td>16.670000</td>\n",
       "      <td>1.280442</td>\n",
       "      <td>10</td>\n",
       "      <td>2014</td>\n",
       "    </tr>\n",
       "    <tr>\n",
       "      <th>1526</th>\n",
       "      <td>2026.140015</td>\n",
       "      <td>23.280001</td>\n",
       "      <td>16.370001</td>\n",
       "      <td>1.239495</td>\n",
       "      <td>12</td>\n",
       "      <td>2014</td>\n",
       "    </tr>\n",
       "  </tbody>\n",
       "</table>\n",
       "</div>"
      ],
      "text/plain": [
       "              SPX        USO        SLV   EUR/USD  Month  Year\n",
       "486   1165.810059  39.560001  16.600000  1.356705      3  2010\n",
       "31    1349.989990  75.930000  16.952000  1.467610      2  2008\n",
       "1754  2041.890015  10.740000  13.080000  1.087453     12  2015\n",
       "1490  1862.760010  31.100000  16.670000  1.280442     10  2014\n",
       "1526  2026.140015  23.280001  16.370001  1.239495     12  2014"
      ]
     },
     "execution_count": 70,
     "metadata": {},
     "output_type": "execute_result"
    }
   ],
   "source": [
    "X_train.head()"
   ]
  },
  {
   "cell_type": "code",
   "execution_count": 71,
   "id": "f551df14",
   "metadata": {},
   "outputs": [],
   "source": [
    "numeric_feature = X_train.select_dtypes('number').columns"
   ]
  },
  {
   "cell_type": "code",
   "execution_count": 72,
   "id": "acf67c75",
   "metadata": {},
   "outputs": [],
   "source": [
    "numeric_transformer = make_pipeline(SimpleImputer(strategy = 'median'), StandardScaler())"
   ]
  },
  {
   "cell_type": "code",
   "execution_count": 73,
   "id": "3fcd46e4",
   "metadata": {},
   "outputs": [],
   "source": [
    "col_transformer = make_column_transformer(\n",
    "  (numeric_transformer, numeric_feature), \n",
    "remainder = 'passthrough')"
   ]
  },
  {
   "cell_type": "code",
   "execution_count": 74,
   "id": "d6182c75",
   "metadata": {},
   "outputs": [
    {
     "data": {
      "text/html": [
       "<style>#sk-26067c78-7615-4b18-896d-c0978412f77f {color: black;background-color: white;}#sk-26067c78-7615-4b18-896d-c0978412f77f pre{padding: 0;}#sk-26067c78-7615-4b18-896d-c0978412f77f div.sk-toggleable {background-color: white;}#sk-26067c78-7615-4b18-896d-c0978412f77f label.sk-toggleable__label {cursor: pointer;display: block;width: 100%;margin-bottom: 0;padding: 0.3em;box-sizing: border-box;text-align: center;}#sk-26067c78-7615-4b18-896d-c0978412f77f label.sk-toggleable__label-arrow:before {content: \"▸\";float: left;margin-right: 0.25em;color: #696969;}#sk-26067c78-7615-4b18-896d-c0978412f77f label.sk-toggleable__label-arrow:hover:before {color: black;}#sk-26067c78-7615-4b18-896d-c0978412f77f div.sk-estimator:hover label.sk-toggleable__label-arrow:before {color: black;}#sk-26067c78-7615-4b18-896d-c0978412f77f div.sk-toggleable__content {max-height: 0;max-width: 0;overflow: hidden;text-align: left;background-color: #f0f8ff;}#sk-26067c78-7615-4b18-896d-c0978412f77f div.sk-toggleable__content pre {margin: 0.2em;color: black;border-radius: 0.25em;background-color: #f0f8ff;}#sk-26067c78-7615-4b18-896d-c0978412f77f input.sk-toggleable__control:checked~div.sk-toggleable__content {max-height: 200px;max-width: 100%;overflow: auto;}#sk-26067c78-7615-4b18-896d-c0978412f77f input.sk-toggleable__control:checked~label.sk-toggleable__label-arrow:before {content: \"▾\";}#sk-26067c78-7615-4b18-896d-c0978412f77f div.sk-estimator input.sk-toggleable__control:checked~label.sk-toggleable__label {background-color: #d4ebff;}#sk-26067c78-7615-4b18-896d-c0978412f77f div.sk-label input.sk-toggleable__control:checked~label.sk-toggleable__label {background-color: #d4ebff;}#sk-26067c78-7615-4b18-896d-c0978412f77f input.sk-hidden--visually {border: 0;clip: rect(1px 1px 1px 1px);clip: rect(1px, 1px, 1px, 1px);height: 1px;margin: -1px;overflow: hidden;padding: 0;position: absolute;width: 1px;}#sk-26067c78-7615-4b18-896d-c0978412f77f div.sk-estimator {font-family: monospace;background-color: #f0f8ff;border: 1px dotted black;border-radius: 0.25em;box-sizing: border-box;margin-bottom: 0.5em;}#sk-26067c78-7615-4b18-896d-c0978412f77f div.sk-estimator:hover {background-color: #d4ebff;}#sk-26067c78-7615-4b18-896d-c0978412f77f div.sk-parallel-item::after {content: \"\";width: 100%;border-bottom: 1px solid gray;flex-grow: 1;}#sk-26067c78-7615-4b18-896d-c0978412f77f div.sk-label:hover label.sk-toggleable__label {background-color: #d4ebff;}#sk-26067c78-7615-4b18-896d-c0978412f77f div.sk-serial::before {content: \"\";position: absolute;border-left: 1px solid gray;box-sizing: border-box;top: 2em;bottom: 0;left: 50%;}#sk-26067c78-7615-4b18-896d-c0978412f77f div.sk-serial {display: flex;flex-direction: column;align-items: center;background-color: white;padding-right: 0.2em;padding-left: 0.2em;}#sk-26067c78-7615-4b18-896d-c0978412f77f div.sk-item {z-index: 1;}#sk-26067c78-7615-4b18-896d-c0978412f77f div.sk-parallel {display: flex;align-items: stretch;justify-content: center;background-color: white;}#sk-26067c78-7615-4b18-896d-c0978412f77f div.sk-parallel::before {content: \"\";position: absolute;border-left: 1px solid gray;box-sizing: border-box;top: 2em;bottom: 0;left: 50%;}#sk-26067c78-7615-4b18-896d-c0978412f77f div.sk-parallel-item {display: flex;flex-direction: column;position: relative;background-color: white;}#sk-26067c78-7615-4b18-896d-c0978412f77f div.sk-parallel-item:first-child::after {align-self: flex-end;width: 50%;}#sk-26067c78-7615-4b18-896d-c0978412f77f div.sk-parallel-item:last-child::after {align-self: flex-start;width: 50%;}#sk-26067c78-7615-4b18-896d-c0978412f77f div.sk-parallel-item:only-child::after {width: 0;}#sk-26067c78-7615-4b18-896d-c0978412f77f div.sk-dashed-wrapped {border: 1px dashed gray;margin: 0 0.4em 0.5em 0.4em;box-sizing: border-box;padding-bottom: 0.4em;background-color: white;position: relative;}#sk-26067c78-7615-4b18-896d-c0978412f77f div.sk-label label {font-family: monospace;font-weight: bold;background-color: white;display: inline-block;line-height: 1.2em;}#sk-26067c78-7615-4b18-896d-c0978412f77f div.sk-label-container {position: relative;z-index: 2;text-align: center;}#sk-26067c78-7615-4b18-896d-c0978412f77f div.sk-container {/* jupyter's `normalize.less` sets `[hidden] { display: none; }` but bootstrap.min.css set `[hidden] { display: none !important; }` so we also need the `!important` here to be able to override the default hidden behavior on the sphinx rendered scikit-learn.org. See: https://github.com/scikit-learn/scikit-learn/issues/21755 */display: inline-block !important;position: relative;}#sk-26067c78-7615-4b18-896d-c0978412f77f div.sk-text-repr-fallback {display: none;}</style><div id=\"sk-26067c78-7615-4b18-896d-c0978412f77f\" class=\"sk-top-container\"><div class=\"sk-text-repr-fallback\"><pre>ColumnTransformer(remainder=&#x27;passthrough&#x27;,\n",
       "                  transformers=[(&#x27;pipeline&#x27;,\n",
       "                                 Pipeline(steps=[(&#x27;simpleimputer&#x27;,\n",
       "                                                  SimpleImputer(strategy=&#x27;median&#x27;)),\n",
       "                                                 (&#x27;standardscaler&#x27;,\n",
       "                                                  StandardScaler())]),\n",
       "                                 Index([&#x27;SPX&#x27;, &#x27;USO&#x27;, &#x27;SLV&#x27;, &#x27;EUR/USD&#x27;, &#x27;Month&#x27;, &#x27;Year&#x27;], dtype=&#x27;object&#x27;))])</pre><b>Please rerun this cell to show the HTML repr or trust the notebook.</b></div><div class=\"sk-container\" hidden><div class=\"sk-item sk-dashed-wrapped\"><div class=\"sk-label-container\"><div class=\"sk-label sk-toggleable\"><input class=\"sk-toggleable__control sk-hidden--visually\" id=\"a15af9f8-df51-4d79-a2ae-ada29de3777e\" type=\"checkbox\" ><label for=\"a15af9f8-df51-4d79-a2ae-ada29de3777e\" class=\"sk-toggleable__label sk-toggleable__label-arrow\">ColumnTransformer</label><div class=\"sk-toggleable__content\"><pre>ColumnTransformer(remainder=&#x27;passthrough&#x27;,\n",
       "                  transformers=[(&#x27;pipeline&#x27;,\n",
       "                                 Pipeline(steps=[(&#x27;simpleimputer&#x27;,\n",
       "                                                  SimpleImputer(strategy=&#x27;median&#x27;)),\n",
       "                                                 (&#x27;standardscaler&#x27;,\n",
       "                                                  StandardScaler())]),\n",
       "                                 Index([&#x27;SPX&#x27;, &#x27;USO&#x27;, &#x27;SLV&#x27;, &#x27;EUR/USD&#x27;, &#x27;Month&#x27;, &#x27;Year&#x27;], dtype=&#x27;object&#x27;))])</pre></div></div></div><div class=\"sk-parallel\"><div class=\"sk-parallel-item\"><div class=\"sk-item\"><div class=\"sk-label-container\"><div class=\"sk-label sk-toggleable\"><input class=\"sk-toggleable__control sk-hidden--visually\" id=\"f4437af1-480f-4f44-89bb-09b7a4163e92\" type=\"checkbox\" ><label for=\"f4437af1-480f-4f44-89bb-09b7a4163e92\" class=\"sk-toggleable__label sk-toggleable__label-arrow\">pipeline</label><div class=\"sk-toggleable__content\"><pre>Index([&#x27;SPX&#x27;, &#x27;USO&#x27;, &#x27;SLV&#x27;, &#x27;EUR/USD&#x27;, &#x27;Month&#x27;, &#x27;Year&#x27;], dtype=&#x27;object&#x27;)</pre></div></div></div><div class=\"sk-serial\"><div class=\"sk-item\"><div class=\"sk-serial\"><div class=\"sk-item\"><div class=\"sk-estimator sk-toggleable\"><input class=\"sk-toggleable__control sk-hidden--visually\" id=\"5b21833d-58e4-4db6-b630-ae7a4c73b49c\" type=\"checkbox\" ><label for=\"5b21833d-58e4-4db6-b630-ae7a4c73b49c\" class=\"sk-toggleable__label sk-toggleable__label-arrow\">SimpleImputer</label><div class=\"sk-toggleable__content\"><pre>SimpleImputer(strategy=&#x27;median&#x27;)</pre></div></div></div><div class=\"sk-item\"><div class=\"sk-estimator sk-toggleable\"><input class=\"sk-toggleable__control sk-hidden--visually\" id=\"5ecda921-dd5f-44e8-9625-25c446626ff8\" type=\"checkbox\" ><label for=\"5ecda921-dd5f-44e8-9625-25c446626ff8\" class=\"sk-toggleable__label sk-toggleable__label-arrow\">StandardScaler</label><div class=\"sk-toggleable__content\"><pre>StandardScaler()</pre></div></div></div></div></div></div></div></div><div class=\"sk-parallel-item\"><div class=\"sk-item\"><div class=\"sk-label-container\"><div class=\"sk-label sk-toggleable\"><input class=\"sk-toggleable__control sk-hidden--visually\" id=\"fecc7a6f-ab94-4329-9d35-d671dad88385\" type=\"checkbox\" ><label for=\"fecc7a6f-ab94-4329-9d35-d671dad88385\" class=\"sk-toggleable__label sk-toggleable__label-arrow\">remainder</label><div class=\"sk-toggleable__content\"><pre>[]</pre></div></div></div><div class=\"sk-serial\"><div class=\"sk-item\"><div class=\"sk-estimator sk-toggleable\"><input class=\"sk-toggleable__control sk-hidden--visually\" id=\"044ab558-fde1-460a-b34d-b2f987d6574f\" type=\"checkbox\" ><label for=\"044ab558-fde1-460a-b34d-b2f987d6574f\" class=\"sk-toggleable__label sk-toggleable__label-arrow\">passthrough</label><div class=\"sk-toggleable__content\"><pre>passthrough</pre></div></div></div></div></div></div></div></div></div></div>"
      ],
      "text/plain": [
       "ColumnTransformer(remainder='passthrough',\n",
       "                  transformers=[('pipeline',\n",
       "                                 Pipeline(steps=[('simpleimputer',\n",
       "                                                  SimpleImputer(strategy='median')),\n",
       "                                                 ('standardscaler',\n",
       "                                                  StandardScaler())]),\n",
       "                                 Index(['SPX', 'USO', 'SLV', 'EUR/USD', 'Month', 'Year'], dtype='object'))])"
      ]
     },
     "execution_count": 74,
     "metadata": {},
     "output_type": "execute_result"
    }
   ],
   "source": [
    "col_transformer.fit(X_train)"
   ]
  },
  {
   "cell_type": "code",
   "execution_count": 75,
   "id": "e6868412",
   "metadata": {},
   "outputs": [],
   "source": [
    "pipe = make_pipeline(col_transformer, RandomForestRegressor())"
   ]
  },
  {
   "cell_type": "code",
   "execution_count": 76,
   "id": "53d652cb",
   "metadata": {},
   "outputs": [
    {
     "data": {
      "text/html": [
       "<style>#sk-634fb7cd-4579-47dd-82e3-3855e2ef2d1f {color: black;background-color: white;}#sk-634fb7cd-4579-47dd-82e3-3855e2ef2d1f pre{padding: 0;}#sk-634fb7cd-4579-47dd-82e3-3855e2ef2d1f div.sk-toggleable {background-color: white;}#sk-634fb7cd-4579-47dd-82e3-3855e2ef2d1f label.sk-toggleable__label {cursor: pointer;display: block;width: 100%;margin-bottom: 0;padding: 0.3em;box-sizing: border-box;text-align: center;}#sk-634fb7cd-4579-47dd-82e3-3855e2ef2d1f label.sk-toggleable__label-arrow:before {content: \"▸\";float: left;margin-right: 0.25em;color: #696969;}#sk-634fb7cd-4579-47dd-82e3-3855e2ef2d1f label.sk-toggleable__label-arrow:hover:before {color: black;}#sk-634fb7cd-4579-47dd-82e3-3855e2ef2d1f div.sk-estimator:hover label.sk-toggleable__label-arrow:before {color: black;}#sk-634fb7cd-4579-47dd-82e3-3855e2ef2d1f div.sk-toggleable__content {max-height: 0;max-width: 0;overflow: hidden;text-align: left;background-color: #f0f8ff;}#sk-634fb7cd-4579-47dd-82e3-3855e2ef2d1f div.sk-toggleable__content pre {margin: 0.2em;color: black;border-radius: 0.25em;background-color: #f0f8ff;}#sk-634fb7cd-4579-47dd-82e3-3855e2ef2d1f input.sk-toggleable__control:checked~div.sk-toggleable__content {max-height: 200px;max-width: 100%;overflow: auto;}#sk-634fb7cd-4579-47dd-82e3-3855e2ef2d1f input.sk-toggleable__control:checked~label.sk-toggleable__label-arrow:before {content: \"▾\";}#sk-634fb7cd-4579-47dd-82e3-3855e2ef2d1f div.sk-estimator input.sk-toggleable__control:checked~label.sk-toggleable__label {background-color: #d4ebff;}#sk-634fb7cd-4579-47dd-82e3-3855e2ef2d1f div.sk-label input.sk-toggleable__control:checked~label.sk-toggleable__label {background-color: #d4ebff;}#sk-634fb7cd-4579-47dd-82e3-3855e2ef2d1f input.sk-hidden--visually {border: 0;clip: rect(1px 1px 1px 1px);clip: rect(1px, 1px, 1px, 1px);height: 1px;margin: -1px;overflow: hidden;padding: 0;position: absolute;width: 1px;}#sk-634fb7cd-4579-47dd-82e3-3855e2ef2d1f div.sk-estimator {font-family: monospace;background-color: #f0f8ff;border: 1px dotted black;border-radius: 0.25em;box-sizing: border-box;margin-bottom: 0.5em;}#sk-634fb7cd-4579-47dd-82e3-3855e2ef2d1f div.sk-estimator:hover {background-color: #d4ebff;}#sk-634fb7cd-4579-47dd-82e3-3855e2ef2d1f div.sk-parallel-item::after {content: \"\";width: 100%;border-bottom: 1px solid gray;flex-grow: 1;}#sk-634fb7cd-4579-47dd-82e3-3855e2ef2d1f div.sk-label:hover label.sk-toggleable__label {background-color: #d4ebff;}#sk-634fb7cd-4579-47dd-82e3-3855e2ef2d1f div.sk-serial::before {content: \"\";position: absolute;border-left: 1px solid gray;box-sizing: border-box;top: 2em;bottom: 0;left: 50%;}#sk-634fb7cd-4579-47dd-82e3-3855e2ef2d1f div.sk-serial {display: flex;flex-direction: column;align-items: center;background-color: white;padding-right: 0.2em;padding-left: 0.2em;}#sk-634fb7cd-4579-47dd-82e3-3855e2ef2d1f div.sk-item {z-index: 1;}#sk-634fb7cd-4579-47dd-82e3-3855e2ef2d1f div.sk-parallel {display: flex;align-items: stretch;justify-content: center;background-color: white;}#sk-634fb7cd-4579-47dd-82e3-3855e2ef2d1f div.sk-parallel::before {content: \"\";position: absolute;border-left: 1px solid gray;box-sizing: border-box;top: 2em;bottom: 0;left: 50%;}#sk-634fb7cd-4579-47dd-82e3-3855e2ef2d1f div.sk-parallel-item {display: flex;flex-direction: column;position: relative;background-color: white;}#sk-634fb7cd-4579-47dd-82e3-3855e2ef2d1f div.sk-parallel-item:first-child::after {align-self: flex-end;width: 50%;}#sk-634fb7cd-4579-47dd-82e3-3855e2ef2d1f div.sk-parallel-item:last-child::after {align-self: flex-start;width: 50%;}#sk-634fb7cd-4579-47dd-82e3-3855e2ef2d1f div.sk-parallel-item:only-child::after {width: 0;}#sk-634fb7cd-4579-47dd-82e3-3855e2ef2d1f div.sk-dashed-wrapped {border: 1px dashed gray;margin: 0 0.4em 0.5em 0.4em;box-sizing: border-box;padding-bottom: 0.4em;background-color: white;position: relative;}#sk-634fb7cd-4579-47dd-82e3-3855e2ef2d1f div.sk-label label {font-family: monospace;font-weight: bold;background-color: white;display: inline-block;line-height: 1.2em;}#sk-634fb7cd-4579-47dd-82e3-3855e2ef2d1f div.sk-label-container {position: relative;z-index: 2;text-align: center;}#sk-634fb7cd-4579-47dd-82e3-3855e2ef2d1f div.sk-container {/* jupyter's `normalize.less` sets `[hidden] { display: none; }` but bootstrap.min.css set `[hidden] { display: none !important; }` so we also need the `!important` here to be able to override the default hidden behavior on the sphinx rendered scikit-learn.org. See: https://github.com/scikit-learn/scikit-learn/issues/21755 */display: inline-block !important;position: relative;}#sk-634fb7cd-4579-47dd-82e3-3855e2ef2d1f div.sk-text-repr-fallback {display: none;}</style><div id=\"sk-634fb7cd-4579-47dd-82e3-3855e2ef2d1f\" class=\"sk-top-container\"><div class=\"sk-text-repr-fallback\"><pre>Pipeline(steps=[(&#x27;columntransformer&#x27;,\n",
       "                 ColumnTransformer(remainder=&#x27;passthrough&#x27;,\n",
       "                                   transformers=[(&#x27;pipeline&#x27;,\n",
       "                                                  Pipeline(steps=[(&#x27;simpleimputer&#x27;,\n",
       "                                                                   SimpleImputer(strategy=&#x27;median&#x27;)),\n",
       "                                                                  (&#x27;standardscaler&#x27;,\n",
       "                                                                   StandardScaler())]),\n",
       "                                                  Index([&#x27;SPX&#x27;, &#x27;USO&#x27;, &#x27;SLV&#x27;, &#x27;EUR/USD&#x27;, &#x27;Month&#x27;, &#x27;Year&#x27;], dtype=&#x27;object&#x27;))])),\n",
       "                (&#x27;randomforestregressor&#x27;, RandomForestRegressor())])</pre><b>Please rerun this cell to show the HTML repr or trust the notebook.</b></div><div class=\"sk-container\" hidden><div class=\"sk-item sk-dashed-wrapped\"><div class=\"sk-label-container\"><div class=\"sk-label sk-toggleable\"><input class=\"sk-toggleable__control sk-hidden--visually\" id=\"6ddc9221-01af-48e4-bcf3-193f9c268ecb\" type=\"checkbox\" ><label for=\"6ddc9221-01af-48e4-bcf3-193f9c268ecb\" class=\"sk-toggleable__label sk-toggleable__label-arrow\">Pipeline</label><div class=\"sk-toggleable__content\"><pre>Pipeline(steps=[(&#x27;columntransformer&#x27;,\n",
       "                 ColumnTransformer(remainder=&#x27;passthrough&#x27;,\n",
       "                                   transformers=[(&#x27;pipeline&#x27;,\n",
       "                                                  Pipeline(steps=[(&#x27;simpleimputer&#x27;,\n",
       "                                                                   SimpleImputer(strategy=&#x27;median&#x27;)),\n",
       "                                                                  (&#x27;standardscaler&#x27;,\n",
       "                                                                   StandardScaler())]),\n",
       "                                                  Index([&#x27;SPX&#x27;, &#x27;USO&#x27;, &#x27;SLV&#x27;, &#x27;EUR/USD&#x27;, &#x27;Month&#x27;, &#x27;Year&#x27;], dtype=&#x27;object&#x27;))])),\n",
       "                (&#x27;randomforestregressor&#x27;, RandomForestRegressor())])</pre></div></div></div><div class=\"sk-serial\"><div class=\"sk-item sk-dashed-wrapped\"><div class=\"sk-label-container\"><div class=\"sk-label sk-toggleable\"><input class=\"sk-toggleable__control sk-hidden--visually\" id=\"33eede39-1780-4b4d-a62b-a31e036997bd\" type=\"checkbox\" ><label for=\"33eede39-1780-4b4d-a62b-a31e036997bd\" class=\"sk-toggleable__label sk-toggleable__label-arrow\">columntransformer: ColumnTransformer</label><div class=\"sk-toggleable__content\"><pre>ColumnTransformer(remainder=&#x27;passthrough&#x27;,\n",
       "                  transformers=[(&#x27;pipeline&#x27;,\n",
       "                                 Pipeline(steps=[(&#x27;simpleimputer&#x27;,\n",
       "                                                  SimpleImputer(strategy=&#x27;median&#x27;)),\n",
       "                                                 (&#x27;standardscaler&#x27;,\n",
       "                                                  StandardScaler())]),\n",
       "                                 Index([&#x27;SPX&#x27;, &#x27;USO&#x27;, &#x27;SLV&#x27;, &#x27;EUR/USD&#x27;, &#x27;Month&#x27;, &#x27;Year&#x27;], dtype=&#x27;object&#x27;))])</pre></div></div></div><div class=\"sk-parallel\"><div class=\"sk-parallel-item\"><div class=\"sk-item\"><div class=\"sk-label-container\"><div class=\"sk-label sk-toggleable\"><input class=\"sk-toggleable__control sk-hidden--visually\" id=\"d18ef4f5-5a9d-40b6-b5fb-f9819d9e704b\" type=\"checkbox\" ><label for=\"d18ef4f5-5a9d-40b6-b5fb-f9819d9e704b\" class=\"sk-toggleable__label sk-toggleable__label-arrow\">pipeline</label><div class=\"sk-toggleable__content\"><pre>Index([&#x27;SPX&#x27;, &#x27;USO&#x27;, &#x27;SLV&#x27;, &#x27;EUR/USD&#x27;, &#x27;Month&#x27;, &#x27;Year&#x27;], dtype=&#x27;object&#x27;)</pre></div></div></div><div class=\"sk-serial\"><div class=\"sk-item\"><div class=\"sk-serial\"><div class=\"sk-item\"><div class=\"sk-estimator sk-toggleable\"><input class=\"sk-toggleable__control sk-hidden--visually\" id=\"2538e77b-6a3f-451e-a85d-81b735664ba7\" type=\"checkbox\" ><label for=\"2538e77b-6a3f-451e-a85d-81b735664ba7\" class=\"sk-toggleable__label sk-toggleable__label-arrow\">SimpleImputer</label><div class=\"sk-toggleable__content\"><pre>SimpleImputer(strategy=&#x27;median&#x27;)</pre></div></div></div><div class=\"sk-item\"><div class=\"sk-estimator sk-toggleable\"><input class=\"sk-toggleable__control sk-hidden--visually\" id=\"b49267eb-e1a5-4877-85f4-dc4aed4a5d7a\" type=\"checkbox\" ><label for=\"b49267eb-e1a5-4877-85f4-dc4aed4a5d7a\" class=\"sk-toggleable__label sk-toggleable__label-arrow\">StandardScaler</label><div class=\"sk-toggleable__content\"><pre>StandardScaler()</pre></div></div></div></div></div></div></div></div><div class=\"sk-parallel-item\"><div class=\"sk-item\"><div class=\"sk-label-container\"><div class=\"sk-label sk-toggleable\"><input class=\"sk-toggleable__control sk-hidden--visually\" id=\"1974c162-d0f2-4016-b351-f779fd53e2ff\" type=\"checkbox\" ><label for=\"1974c162-d0f2-4016-b351-f779fd53e2ff\" class=\"sk-toggleable__label sk-toggleable__label-arrow\">remainder</label><div class=\"sk-toggleable__content\"><pre>[]</pre></div></div></div><div class=\"sk-serial\"><div class=\"sk-item\"><div class=\"sk-estimator sk-toggleable\"><input class=\"sk-toggleable__control sk-hidden--visually\" id=\"8f1ec2fb-3fdb-4b4e-9d49-44b54bc0b577\" type=\"checkbox\" ><label for=\"8f1ec2fb-3fdb-4b4e-9d49-44b54bc0b577\" class=\"sk-toggleable__label sk-toggleable__label-arrow\">passthrough</label><div class=\"sk-toggleable__content\"><pre>passthrough</pre></div></div></div></div></div></div></div></div><div class=\"sk-item\"><div class=\"sk-estimator sk-toggleable\"><input class=\"sk-toggleable__control sk-hidden--visually\" id=\"d09e4ab3-e6f2-469e-908f-0418d9eec08e\" type=\"checkbox\" ><label for=\"d09e4ab3-e6f2-469e-908f-0418d9eec08e\" class=\"sk-toggleable__label sk-toggleable__label-arrow\">RandomForestRegressor</label><div class=\"sk-toggleable__content\"><pre>RandomForestRegressor()</pre></div></div></div></div></div></div></div>"
      ],
      "text/plain": [
       "Pipeline(steps=[('columntransformer',\n",
       "                 ColumnTransformer(remainder='passthrough',\n",
       "                                   transformers=[('pipeline',\n",
       "                                                  Pipeline(steps=[('simpleimputer',\n",
       "                                                                   SimpleImputer(strategy='median')),\n",
       "                                                                  ('standardscaler',\n",
       "                                                                   StandardScaler())]),\n",
       "                                                  Index(['SPX', 'USO', 'SLV', 'EUR/USD', 'Month', 'Year'], dtype='object'))])),\n",
       "                ('randomforestregressor', RandomForestRegressor())])"
      ]
     },
     "execution_count": 76,
     "metadata": {},
     "output_type": "execute_result"
    }
   ],
   "source": [
    "pipe.fit(X_train, y_train)"
   ]
  },
  {
   "cell_type": "code",
   "execution_count": 77,
   "id": "7b4c0f27",
   "metadata": {},
   "outputs": [],
   "source": [
    "from sklearn.model_selection import cross_validate\n",
    "with_categorical_score = cross_validate(pipe, X_train, y_train, return_train_score = True)"
   ]
  },
  {
   "cell_type": "code",
   "execution_count": 78,
   "id": "9f08b39b",
   "metadata": {},
   "outputs": [
    {
     "data": {
      "text/html": [
       "<div>\n",
       "<style scoped>\n",
       "    .dataframe tbody tr th:only-of-type {\n",
       "        vertical-align: middle;\n",
       "    }\n",
       "\n",
       "    .dataframe tbody tr th {\n",
       "        vertical-align: top;\n",
       "    }\n",
       "\n",
       "    .dataframe thead th {\n",
       "        text-align: right;\n",
       "    }\n",
       "</style>\n",
       "<table border=\"1\" class=\"dataframe\">\n",
       "  <thead>\n",
       "    <tr style=\"text-align: right;\">\n",
       "      <th></th>\n",
       "      <th>fit_time</th>\n",
       "      <th>score_time</th>\n",
       "      <th>test_score</th>\n",
       "      <th>train_score</th>\n",
       "    </tr>\n",
       "  </thead>\n",
       "  <tbody>\n",
       "    <tr>\n",
       "      <th>0</th>\n",
       "      <td>0.586784</td>\n",
       "      <td>0.031248</td>\n",
       "      <td>0.994248</td>\n",
       "      <td>0.999238</td>\n",
       "    </tr>\n",
       "    <tr>\n",
       "      <th>1</th>\n",
       "      <td>0.616287</td>\n",
       "      <td>0.025312</td>\n",
       "      <td>0.995341</td>\n",
       "      <td>0.999356</td>\n",
       "    </tr>\n",
       "    <tr>\n",
       "      <th>2</th>\n",
       "      <td>0.507074</td>\n",
       "      <td>0.018281</td>\n",
       "      <td>0.994429</td>\n",
       "      <td>0.999314</td>\n",
       "    </tr>\n",
       "    <tr>\n",
       "      <th>3</th>\n",
       "      <td>0.559299</td>\n",
       "      <td>0.015625</td>\n",
       "      <td>0.995117</td>\n",
       "      <td>0.999225</td>\n",
       "    </tr>\n",
       "    <tr>\n",
       "      <th>4</th>\n",
       "      <td>0.483602</td>\n",
       "      <td>0.027509</td>\n",
       "      <td>0.995168</td>\n",
       "      <td>0.999140</td>\n",
       "    </tr>\n",
       "  </tbody>\n",
       "</table>\n",
       "</div>"
      ],
      "text/plain": [
       "   fit_time  score_time  test_score  train_score\n",
       "0  0.586784    0.031248    0.994248     0.999238\n",
       "1  0.616287    0.025312    0.995341     0.999356\n",
       "2  0.507074    0.018281    0.994429     0.999314\n",
       "3  0.559299    0.015625    0.995117     0.999225\n",
       "4  0.483602    0.027509    0.995168     0.999140"
      ]
     },
     "execution_count": 78,
     "metadata": {},
     "output_type": "execute_result"
    }
   ],
   "source": [
    "categorical_score = pd.DataFrame(with_categorical_score)\n",
    "categorical_score"
   ]
  },
  {
   "cell_type": "code",
   "execution_count": 79,
   "id": "79c48a93",
   "metadata": {},
   "outputs": [
    {
     "data": {
      "text/plain": [
       "array([127.27039911, 117.08879963, 139.52520074, 121.19050051,\n",
       "        94.01879978, 154.33810125, 117.66180131, 113.36560146,\n",
       "       152.73349953, 105.75300047, 103.12029938, 120.20810082,\n",
       "        92.23789913, 159.41110021, 121.53629873, 117.2312016 ,\n",
       "        86.76279874,  91.9311995 ,  92.85169973, 125.63200048,\n",
       "        84.10739898, 117.08569871, 126.69699847, 173.66239727,\n",
       "       167.97949683, 138.8417026 , 114.37439949, 159.73810136,\n",
       "       133.95240139, 116.00380013, 112.08250029, 104.96920175,\n",
       "       128.05669995, 122.00669992,  98.62019962, 121.06709919,\n",
       "        84.7314    , 115.01200024, 127.38709882, 139.7292998 ,\n",
       "       103.51500017, 131.09850201, 108.66400007, 134.6326996 ,\n",
       "       133.5921988 , 150.09779942, 119.56880073, 158.57180082,\n",
       "       159.38430131, 127.58949996, 123.30550063, 113.84429923,\n",
       "       123.44330045, 118.79469985, 153.84929989, 122.38209972,\n",
       "       112.34530021,  86.79120002, 155.81989964, 117.98020109,\n",
       "        88.41479955, 114.60890001,  83.37449925, 146.58379698,\n",
       "       125.10590006, 127.28729879, 125.05399945, 120.97339973,\n",
       "       168.04860242, 121.76259925, 125.71940167, 173.08759752,\n",
       "       121.91300002, 168.13030126, 118.83690004, 127.25929928,\n",
       "       154.42049856, 109.17619804, 114.60889913, 160.28849804,\n",
       "       119.87310059, 125.41959813, 117.60369941, 121.09200013,\n",
       "       112.10079995, 160.62269932, 114.61299969, 113.48609963,\n",
       "       125.57529818,  94.89319957, 113.3964997 , 113.90690093,\n",
       "        80.68219913, 160.11989989, 125.60670024, 118.9492009 ,\n",
       "        91.98139989, 105.73500168, 138.4233019 ,  92.01939916,\n",
       "       156.71660447, 122.17860047, 123.41120017, 114.95619985,\n",
       "        87.89730075, 129.93979987, 125.23820067, 167.25650259,\n",
       "       108.3385006 , 167.23139826, 103.95669973, 136.65449795,\n",
       "       115.22130145, 119.99720064,  93.14959984, 166.85200115,\n",
       "       114.28490016, 109.37899932,  83.19879968, 109.64509949,\n",
       "       155.18980137,  91.36330065,  74.25270033, 121.63639942,\n",
       "       102.97779984, 117.16589889, 122.02729976, 134.77380013,\n",
       "       119.53059996, 103.65349973, 108.84490115, 112.56859949,\n",
       "        93.28859951, 122.54829877, 118.83580016, 113.59650109,\n",
       "        73.83820004, 126.78760017,  81.55059961, 115.38649903,\n",
       "       117.19509937, 152.87980336, 139.05839978, 113.16369976,\n",
       "       165.50700303, 133.27970146, 124.70650074, 118.38590101,\n",
       "       124.30849929, 122.87420066, 160.91309884, 106.51720082,\n",
       "       117.01139919,  87.54139869, 127.80690079, 112.43340015,\n",
       "        85.05439885, 115.99559934, 117.39260045,  86.63009985,\n",
       "       131.2913991 , 146.02929895, 134.20740372, 115.55269947,\n",
       "       128.05020084, 118.33900037, 105.89160056, 116.83720132,\n",
       "       114.88930101, 118.80869885, 156.11840147, 122.31919942,\n",
       "        90.34510014, 120.79550051, 105.50550003, 121.44820013,\n",
       "       107.91999952, 107.31740138, 120.85319884, 125.14490107,\n",
       "        88.55119922, 172.71659965, 120.34800071, 117.73860106,\n",
       "       162.42039919, 122.18640096, 109.9804985 , 128.12630003,\n",
       "       132.41960247, 121.0033995 , 118.61890111, 137.83870381,\n",
       "       138.79590155, 117.31949979, 142.38480258, 136.0706001 ,\n",
       "       125.41559923, 124.80889866, 180.80109578, 122.59630126,\n",
       "       165.27330321,  94.62620192, 132.06260232,  92.82039924,\n",
       "        97.29229819,  90.26390038, 106.81350037, 112.27060009,\n",
       "       162.00299962, 161.18369914, 153.37010402, 114.20030102,\n",
       "       118.33500121, 118.92700208, 120.66380067,  91.64570159,\n",
       "       103.67719991, 154.99939892, 109.16689853, 102.70509881,\n",
       "       157.98410018,  75.9896997 , 120.51430063, 168.68059705,\n",
       "       116.31489932, 148.62640065, 154.66870071, 138.87209966,\n",
       "       154.35289823, 131.29840366, 131.12340017, 123.37310032,\n",
       "       116.34920163, 135.12169772, 164.81710085, 153.72910133,\n",
       "       127.05020053, 161.1160004 , 127.76400004, 108.86909863,\n",
       "       167.8836977 , 117.65419847,  84.9927994 , 163.44100329,\n",
       "       153.14100033, 116.8841021 , 129.36469964,  92.07719926,\n",
       "        91.0842008 , 112.6474994 ,  87.81560018, 115.66349926,\n",
       "       119.75480112, 152.75140014, 116.55119905, 106.74290129,\n",
       "       118.32709929, 139.77249875, 110.49959905, 122.38859917,\n",
       "        84.00549895, 126.23189947, 125.75680079, 168.32759996,\n",
       "       126.73709896, 142.40739907, 116.74650112, 167.95340118,\n",
       "       107.05119817, 173.54010028, 109.90209794, 115.07910167,\n",
       "        88.55069925, 125.34560016, 117.40780022, 152.89010275,\n",
       "       162.04229932,  79.44019957, 105.23029968, 111.37229944,\n",
       "       110.56519912, 107.91230064, 117.86460092,  89.62799995,\n",
       "        88.875399  ,  85.21240049, 137.86389788, 127.45959999,\n",
       "       119.63240095,  96.10640035, 109.93379831,  78.89749892,\n",
       "        72.70970183, 119.1016006 , 118.28910062,  89.81809988,\n",
       "       111.12070124, 116.93789916, 118.26320129, 123.57909983,\n",
       "       146.08629941,  88.51849966, 131.75679852, 116.5903007 ,\n",
       "       154.19220214, 109.94669952, 150.78070076, 125.29459869,\n",
       "       116.29040031, 113.83849887, 125.1483997 , 135.64879928,\n",
       "       139.52199987, 117.48810015, 128.25489937,  93.13839899,\n",
       "       114.73889934,  89.31809967,  89.43730141, 106.12180045,\n",
       "       132.41300277, 152.77079847, 161.13270269, 119.46210115,\n",
       "       102.48820048, 106.78659902, 150.01469764, 152.54369725,\n",
       "       106.71000117, 136.55880253, 121.32659911, 126.81779816,\n",
       "        87.79070062, 172.47709905, 117.27629856, 135.41100232,\n",
       "       115.07599942,  89.43019952, 120.75700006, 136.66170131,\n",
       "       117.07969975, 134.84839977, 118.26570069, 168.57500101,\n",
       "       121.37460019, 123.15289849, 120.69699874, 126.76790155,\n",
       "        87.80010035, 149.83140258, 114.31900008, 111.30370009,\n",
       "       110.29660159, 156.01530288,  93.0734013 ,  92.56259975,\n",
       "       119.61480082, 156.43130242, 118.83000062, 155.76540353,\n",
       "       126.22990057, 160.89679782, 123.90709964, 130.94300171,\n",
       "       122.77790023,  74.56810007,  93.39119936,  90.00809998,\n",
       "       121.81959982, 110.71110157, 116.87879976, 108.2853998 ,\n",
       "       126.05009957, 126.32950177, 122.21250009, 120.42499941,\n",
       "       103.68029931, 110.07139808, 110.66980109, 148.49460343,\n",
       "       126.30109924, 135.62580178, 125.83140114, 138.98299991,\n",
       "       140.90350131, 108.39939898, 109.79319892, 128.54990175,\n",
       "       110.35519978, 116.29049872, 120.52860102, 148.03570041,\n",
       "        93.51309986, 104.78330016, 128.16950095, 123.83349951,\n",
       "       162.81109891, 121.44900026, 150.36120314, 111.17099921,\n",
       "       125.25020046,  89.20089952,  80.67079913, 127.36089874,\n",
       "       126.0420004 , 136.47280073, 119.90619932, 127.52789789,\n",
       "        86.65399897, 124.57319943, 118.5088995 , 115.49909817,\n",
       "       102.10579891, 121.55120161,  93.15149932, 102.69299936,\n",
       "       123.91809929, 114.95189976, 126.65740044,  90.25969981,\n",
       "       119.96810109, 109.09869908, 121.50279943, 132.69110202,\n",
       "        87.17959915, 123.54649976, 101.70559998, 100.26650082,\n",
       "       102.88610017,  89.52699962, 120.71890127, 123.37309962,\n",
       "       171.75609788, 126.01149947,  94.54490096, 160.49650449,\n",
       "       108.37869908,  96.4668992 , 131.47320036, 113.7432    ,\n",
       "        87.29439876, 168.30939929,  89.7801999 ,  90.34469926,\n",
       "       167.38149705, 159.98460112, 165.55250189, 168.84089596,\n",
       "       125.74459821, 127.19559895, 122.05879924,  91.30819917,\n",
       "       121.0757001 , 120.38440055, 128.99859864, 160.63390034,\n",
       "       117.35869995, 108.42209991])"
      ]
     },
     "execution_count": 79,
     "metadata": {},
     "output_type": "execute_result"
    }
   ],
   "source": [
    "pipe.predict(X_test)"
   ]
  },
  {
   "cell_type": "code",
   "execution_count": 80,
   "id": "5b3e530b",
   "metadata": {},
   "outputs": [
    {
     "data": {
      "text/plain": [
       "0.9993414873871957"
      ]
     },
     "execution_count": 80,
     "metadata": {},
     "output_type": "execute_result"
    }
   ],
   "source": [
    "pipe.score(X_train, y_train)"
   ]
  },
  {
   "cell_type": "code",
   "execution_count": 81,
   "id": "5e71b466",
   "metadata": {},
   "outputs": [
    {
     "data": {
      "text/plain": [
       "0.9960149479510495"
      ]
     },
     "execution_count": 81,
     "metadata": {},
     "output_type": "execute_result"
    }
   ],
   "source": [
    "pipe.score(X_test, y_test)"
   ]
  }
 ],
 "metadata": {
  "kernelspec": {
   "display_name": "project1",
   "language": "python",
   "name": "project1"
  },
  "language_info": {
   "codemirror_mode": {
    "name": "ipython",
    "version": 3
   },
   "file_extension": ".py",
   "mimetype": "text/x-python",
   "name": "python",
   "nbconvert_exporter": "python",
   "pygments_lexer": "ipython3",
   "version": "3.7.12"
  }
 },
 "nbformat": 4,
 "nbformat_minor": 5
}
